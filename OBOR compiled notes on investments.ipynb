{
 "cells": [
  {
   "cell_type": "markdown",
   "metadata": {},
   "source": [
    "# One Belt One Road Global Investment Data Analyzation\n",
    "Using data gained from the China Global Investment Tracker, which has been compiled by The American Enterprise Institute and The Heritage Foundation. This information has been updated as of 2020. This notebook is a base work on research and understanding of the data."
   ]
  },
  {
   "cell_type": "code",
   "execution_count": 64,
   "metadata": {},
   "outputs": [],
   "source": [
    "#importing the libraries\n",
    "import pandas as pd\n",
    "import openpyxl\n",
    "import matplotlib.pyplot as plt\n",
    "from sklearn.linear_model import LinearRegression as lr\n",
    "import sklearn.metrics\n",
    "import sklearn.model_selection as ms"
   ]
  },
  {
   "cell_type": "code",
   "execution_count": 3,
   "metadata": {},
   "outputs": [
    {
     "name": "stdout",
     "output_type": "stream",
     "text": [
      "   Year     Month             Chinese Entity  Quantity in Millions Share size  \\\n",
      "0  2005   January                  Minmetals                   500        NaN   \n",
      "1  2005   January  China Academy of Sciences                  1740        NaN   \n",
      "2  2005   January                  Sinohydro                   100        NaN   \n",
      "3  2005  February                  Minmetals                   550        NaN   \n",
      "4  2005  February                  Sinohydro                   150        NaN   \n",
      "\n",
      "          Transaction Party      Sector Subsector Country  \\\n",
      "0              Cubapetroleo      Metals       NaN    Cuba   \n",
      "1                       IBM  Technology       NaN     USA   \n",
      "2                       NaN   Transport  Aviation   Qatar   \n",
      "3                   Codelco      Metals    Copper   Chile   \n",
      "4  Oman Wastewater Services   Utilities       NaN    Oman   \n",
      "\n",
      "                              Region  BRI Greenfield  \n",
      "0                      North America  NaN          G  \n",
      "1                                USA  NaN        NaN  \n",
      "2  Arab Middle East and North Africa  NaN        NaN  \n",
      "3                      South America  NaN          G  \n",
      "4  Arab Middle East and North Africa  NaN        NaN  \n",
      "Index(['Year', 'Month', 'Chinese Entity', 'Quantity in Millions', 'Share size',\n",
      "       'Transaction Party', 'Sector', 'Subsector', 'Country', 'Region', 'BRI',\n",
      "       'Greenfield'],\n",
      "      dtype='object')\n"
     ]
    }
   ],
   "source": [
    "df = pd.read_excel(\"dataset1and2.xlsx\",engine=\"openpyxl\")\n",
    "print(df.head())\n",
    "print(df.keys())"
   ]
  },
  {
   "cell_type": "markdown",
   "metadata": {},
   "source": [
    "## Indexes\n",
    "Note the index names: 'Year', 'Month', 'Chinese Entity', 'Quantity in Millions', 'Share size',\n",
    "       'Transaction Party', 'Sector', 'Subsector', 'Country', 'Region', 'BRI',\n",
    "       'Greenfield'"
   ]
  },
  {
   "cell_type": "code",
   "execution_count": 4,
   "metadata": {},
   "outputs": [],
   "source": [
    "#Convert and locate the uniques\n",
    "df.columns = [c.lower().replace(' ', '_') for c in df.columns]\n",
    "years = df.year.unique()\n",
    "chinese_entity = df.chinese_entity.unique()\n",
    "regions = df.region.unique()\n",
    "qinmillions = df.quantity_in_millions.unique()\n",
    "share_size = df.share_size.unique()\n",
    "tparty = df.transaction_party.unique()\n",
    "sector = df.sector.unique()\n",
    "subsector = df.subsector.unique()\n",
    "country = df.country.unique()\n",
    "regions = df.region.unique()\n",
    "bri = df.bri.unique()\n",
    "greenfield = df.greenfield.unique()\n",
    "\n",
    "uniques = [years, chinese_entity, regions, qinmillions, share_size,\n",
    "           tparty, sector, subsector, country, regions, bri, greenfield]"
   ]
  },
  {
   "cell_type": "code",
   "execution_count": 5,
   "metadata": {},
   "outputs": [
    {
     "name": "stdout",
     "output_type": "stream",
     "text": [
      "[2005 2006 2007 2008 2009 2010 2011 2012 2013 2014 2015 2016 2017 2018\n",
      " 2019 2020]\n",
      "['Minmetals' 'China Academy of Sciences' 'Sinohydro' 'MCC' 'Sinoma'\n",
      " 'CNOOC' 'Sinomach' 'Minmetals, MCC' 'CNPC' 'Sinopec'\n",
      " 'Sinomach, Sinohydro' 'China Railway Construction, Genertec'\n",
      " 'Jiangsu Yuejin' 'CITIC, Sinohydro' 'CNPC, Sinopec'\n",
      " 'State-Owned Enterprise Investment Company, Beijing Jingdeshun'\n",
      " 'ChemChina' 'Sinosteel' 'China Nonferrous'\n",
      " 'China Communications Construction' 'Norinco' 'CITIC'\n",
      " 'CITIC, China Aluminum' 'China National Nuclear'\n",
      " 'State Construction Engineering' 'Group of Shanghai state firms'\n",
      " 'Shandong Electric Power' 'China Power Energy Consulting'\n",
      " 'CITIC, China Railway Construction' 'Tebian Electric Apparatus' 'Weihai'\n",
      " 'Jiangsu International' 'Dongfang Electric' 'Wuxi Suntech'\n",
      " 'ZTE, Huawei, China Communications Construction' 'Huawei'\n",
      " 'CITIC, Chinalco' 'Jiangxi Copper' 'China Development Bank' 'Ex-Im Bank'\n",
      " 'Three Gorges' 'China National Chemical Engineering' 'Genertec'\n",
      " 'Sichuan Changhong' 'Bank of China' 'Harbin Electric' 'Huadian'\n",
      " 'Shanghai Electric' 'China Mobile' 'Shandong Electric Power Construction'\n",
      " 'Chinalco' 'Zijin Mining, China Nonferrous, Xiamen C&D'\n",
      " 'Shanghai Shengong, Shanghai Municipal Government' 'Gezhouba'\n",
      " 'Sinohydro, China Communications Construction'\n",
      " 'Sinomach, China Nonferrous' 'CIC' 'LinkGlobal Logistics'\n",
      " 'China National Building Material' 'China Ocean Shipping' 'Golden Dragon'\n",
      " 'Dongfang Electric, Shanghai Electric' 'Ansteel' 'Sany Heavy' 'ICBC'\n",
      " 'Southern Power' 'China Electronics Corporation' 'Ping An'\n",
      " 'MCC, Jiangxi Copper' 'Youngor' 'Guizhou Hongfu'\n",
      " 'Minmetals, Jiangxi Copper' 'Shenzhen Energy, China Development Bank'\n",
      " 'China Railway Construction' 'SAFE' 'Jinchuan' 'WuXi Pharma' 'State Grid'\n",
      " 'Sinochem' 'Minmetals, Xinxing Iron' 'Huaneng Power' 'China Life'\n",
      " 'Mindray Medical' 'China Railway Engineering' 'Hopu Investment'\n",
      " 'Sinohydro, Three Gorges' 'China National Chemical Engineering, Genertec'\n",
      " 'COFCO' 'Zoomlion' 'MCC, Sinohydro' 'Guangdong Overseas Construction'\n",
      " 'SEPCO III' 'Shanghai Tunnel Engineering' 'Jiangsu Shagang, RGL Group'\n",
      " 'Datong Mining' 'Shenhua' 'Three Gorges-led consortium' 'ZTE'\n",
      " 'Zhongmei Engineering' 'Xinjiang Guanghui'\n",
      " 'Wuhan Iron and Steel, China Development Bank' 'Datang'\n",
      " 'Union Development' 'Hunan Valin' 'Shougang' 'Wuhan Iron and Steel'\n",
      " 'Tianjin Pipe' 'Jiangsu Taihu' 'CNOOC, Sinopec' 'HNA' 'Nanjinzhao'\n",
      " 'Guangdong Rising Asset Management' 'Haicheng Xiyang Group'\n",
      " 'Tianjin Development'\n",
      " 'Taiyuan Iron, China Development Bank, Shanxi Coking Coal, and Tianli Enterprises'\n",
      " 'Shandong Electric Power, Dongfang Electric' 'Yankuang'\n",
      " 'MCC, China Architecture Design' 'Unicom' 'Baosteel' 'Great Wall Motor'\n",
      " 'Jin Jiang Hotels' 'Beijing Auto' 'Shanghai Auto' 'AVIC' 'China Poly'\n",
      " 'China Railway Construction, China Nonferrous'\n",
      " 'Baiyin Non-Ferrous, CITIC, Chang Xin' 'Shandong Sun Paper'\n",
      " 'Jinsheng Trading' 'Shunde Rixin, Minmetals' 'Wuhan Kaidi Electric'\n",
      " 'Wanhua Industrial'\n",
      " 'Gezhouba, Xinjiang International Economic Cooperation'\n",
      " 'East China Mineral Exploration and Development Bureau (Jiangsu)'\n",
      " 'Geely Auto' 'First Auto Works, China Development Bank'\n",
      " 'Sinomach, Gezhouba' 'Sichuan Hanlong' 'Tencent'\n",
      " 'Guangdong Power Engineering' 'Jiangsu Zongyi'\n",
      " 'Jinchuan, China Development Bank'\n",
      " 'Tangshan Jidong Cement, China Development Bank' 'Jiangsu Qiyuan'\n",
      " 'Tianyu Group' 'Rongsheng Holding, China National Chemical Engineering'\n",
      " 'Shaanxi Chemical' 'Yunnan Metallurgical'\n",
      " 'Beijing Construction Engineering'\n",
      " 'Tempo Group, Beijing Municipal Government' 'China Merchants'\n",
      " 'China Machine New Energy' 'Inner Mongolia Hongkun' 'Bosai Minerals'\n",
      " 'Shanda Interactive' 'Three Gorges, Sinohydro' 'Guangxi Road and Bridge'\n",
      " 'Chongqing Chonggang' 'China Merchants, China Development Bank'\n",
      " 'Taiyuan Heavy'\n",
      " 'China Railway Construction, Nanjing Government, China Development Bank, Guangdong Xinguang'\n",
      " 'Ashima Cultural Group' 'Xinjiang Hualing, Shanghai Boda' 'Reignwood'\n",
      " 'Sinomach-led consortium' 'Hydrochina' 'China Electronics Technology'\n",
      " 'Jiangsu Jinsheng' 'China Unicom' 'Lenovo' 'Shangdi Guanqun Investment'\n",
      " 'Guangdong Changda Highway Engineering' 'China State Shipbuilding'\n",
      " 'Nanshan Group' 'Fulida Group' 'Chongqing Grain'\n",
      " 'Shengli Engineering-led consortium'\n",
      " 'Anhui Foreign Economic Construction' 'Evergreen'\n",
      " 'Datang, China South Industries' 'Ningbo Joyson'\n",
      " 'Zhongding International Construction' 'Shandong Iron'\n",
      " 'CITIC, China Development Bank, Long March Capital' 'Zijin Mining'\n",
      " 'Fosun' 'China Chengtong' 'Chery Auto'\n",
      " 'China Dalian International Economic & Technical'\n",
      " 'Heilongjiang Beidahuang Nongken' 'Suning Appliance' 'Dreal'\n",
      " 'Fuyao Glass' 'Gold One' 'Guodian' 'Jilin Nonferrous' 'Haier'\n",
      " 'Beijing Enterprises' 'Bright Foods' 'Taiyuan Iron, CITIC, Baosteel'\n",
      " 'Guangdong Midea' 'JAC Motors'\n",
      " 'China National Chemical Engineering, Dongfang Electric, China Energy Engineering'\n",
      " 'Xinjiang Goldwind' 'United Energy' 'Qingdao Tianzhong'\n",
      " 'Power Construction Corp' 'Henan Guoju'\n",
      " 'Jiangxi International Economic and Technical Cooperation'\n",
      " 'State Development and Investment Corp' 'Tsingtao Beer'\n",
      " 'China Nickel Resources' 'Soho China' 'Wolong Holding'\n",
      " 'Beijing Urban Construction' 'Guangxi Nonferrous' 'Zhouda Real Estate'\n",
      " 'Sinosteel, Power Construction Corp' 'Shougang Group' 'Sany Heavy, CITIC'\n",
      " 'Shanghai Wanfeng' 'Shandong Heavy' 'China Energy Engineering'\n",
      " 'CIC, Sinopec' 'Guangxi Liugong Machinery' 'China Shipping'\n",
      " 'Guangdong Nuclear Power, China Development Bank' 'Dalian Shipbuilding'\n",
      " 'Shanghai Pengxin' 'Hebei Iron and Steel' 'Xuzhou Construction Machinery'\n",
      " 'Wanxiang' 'China Construction Bank' 'Dalian Wanda'\n",
      " 'China Architecture Design and Research' 'Shanghai Construction'\n",
      " 'Hanergy' 'Xinjiang Hualing' 'Wison Energy' 'China Electric Equipment'\n",
      " 'China Copper Mines' 'Sichuan Bohong' 'China South Locomotive'\n",
      " 'Jiangxi Zhongmei' 'Beijing Shenwu' 'Wanbao Grain'\n",
      " 'Zhejiang Huayou Cobalt' 'Shandong Ruyi' 'Synutra' 'Shandong Energy'\n",
      " 'China Power Investment' 'Shandong Gold' 'BGI' 'Xinwei' 'Beijing Jingmei'\n",
      " 'Shanghai Greenland' 'Shandong Linglong Tire' 'Sailun Tire' 'Yuanda'\n",
      " 'Shanghai Zhongfu' 'Mengniu Dairy' 'Yili Industrial'\n",
      " 'Hebei Steel, General Development, Tewoo' 'Chengdu Tianqi, CIC'\n",
      " 'Country Garden Holdings'\n",
      " 'China Shipping, China Ocean Shipping, China Merchants' 'Anhui Conch'\n",
      " 'Hualing' 'Tebian Electric Apparatus, Power Construction Corp'\n",
      " 'Xiamen University' 'China Henan International Cooperation'\n",
      " 'Guangxi Beibu' 'Vanke' 'Shandong Bright Ruby'\n",
      " 'China Shenyang International Economic and Technical Cooperation Corp'\n",
      " 'China National Aviation Fuel' 'Hongye Investment' 'Shuanghui'\n",
      " 'Shandong Qixing' 'Keep Glory' 'CDH' 'Comtec Solar'\n",
      " 'Xugong Construction Machinery' 'Zarsion' 'Shanghai MicroPort Scientific'\n",
      " 'Shandong Gaosu' 'Meidu Holding' 'Yunnan Copper-led consortium'\n",
      " 'China Molybdenum' 'Kingho Energy' 'Tsingshan Steel'\n",
      " 'Power Construction Corp, Sinopec' 'Shanxi Coking Coal'\n",
      " 'Belle International, CDH' 'China Railway Rolling Stock'\n",
      " 'Shenzhen Zhongjin Lingnan' 'Shaanxi Yanchang Petroleum' 'CNPC, CNOOC'\n",
      " 'Zongshen Industrial' 'Alibaba' 'Henan Meijing'\n",
      " 'China Aerospace Science and Technology' 'Sichuan Railway Industry'\n",
      " 'Power Construction Corp, Yingli Green Energy'\n",
      " 'Harbin Electric, China Energy Engineering' 'Shanghai Zendai' 'CSR'\n",
      " 'Ming Yan' 'Sinomach, Hunan Construction Engineering' 'Keer Group'\n",
      " 'Oceanwide Holdings' 'Guangzhou R&F Properties' 'Shenzhen Hepalink'\n",
      " 'Shenzhen Hazens' 'China South Industries' 'Henan Civil Aviation'\n",
      " 'Wanfeng Auto' 'China Railway Construction, China Railway Engineering'\n",
      " 'Power Construction Corp, Sinomach' 'SEPCO II' 'Goodbaby'\n",
      " 'Power Construction Corp, Shanghai Construction'\n",
      " 'Shaanxi Coal and Chemical' 'Goldleaf Jewelry'\n",
      " 'Bank of China, China Life, Hopu Investment' 'Beijing Capital'\n",
      " 'Anhui Landing' 'Huaxin Post and Telecom' 'Dongfeng'\n",
      " 'Zhenfa New Energy Science' 'Geo-Jade Petroleum' 'Cinda' 'Tidfore Heavy'\n",
      " 'Zhejiang Rongsheng, Shanghai Zhongrong, Legend'\n",
      " 'Minmetals, Suzhou Guoxin, CITIC' 'Sanpower' 'Hubei Fuxing Science'\n",
      " 'COFCO, Hopu Investment' 'Sinopec, Huadian' 'Hongqiao-led Unit'\n",
      " 'Shenzhen Genzon' 'Baidu' 'CNPC-led Unit' 'Shanghai Shentong'\n",
      " 'Shanghai International Group, Sanpower' 'LeEco' 'Yida'\n",
      " 'Heilongjiang Grand Farm' 'Huapont' 'Legend' 'Shandong Daiyin'\n",
      " 'State Development and Investment Corp, Anhui Conch' 'Huajian'\n",
      " 'Solargiga' 'Sino Great Wall' 'Sichuan Department of Agriculture'\n",
      " 'Rongsheng Heavy Industries' 'Hongqiao' 'China General Nuclear'\n",
      " 'Dalian Wanda, Ridong' 'Shanghai Shenglong'\n",
      " 'Sinomach, China National Chemical Engineering' 'Hebei Steel'\n",
      " 'Huayi Brothers' 'China Merchants, China Communications Construction'\n",
      " 'Power Construction Corp, China Energy Engineering' 'Risen Energy'\n",
      " 'Anbang' 'Lifan' 'Baidu, Ping An, Qihoo' 'Hebei Zhongbo Platinum'\n",
      " 'Vision Investment' 'Sunshine Insurance' 'Texhong Textile'\n",
      " 'Shandong Landbridge' 'Xinyi Glass' 'Haitong Securities'\n",
      " 'BlueFocus Communications' 'Sichuan Xinglida' 'Guangzhou Dongsong'\n",
      " 'Taikang Life' 'Ctrip' 'Yunnan Provincial Overseas Investment, Dongyan'\n",
      " 'Zhejiang Hengyi'\n",
      " 'China Gansu International Corp for Economic and Technical Cooperation'\n",
      " 'Tencent, Renren' 'Gansu Tianqing'\n",
      " 'Jiangsu Changjiang, Semiconductor Manufacturing International, IC Fund'\n",
      " 'China Launch and Tracking Control General' 'Anhui Zhongding'\n",
      " 'Shanghai Auto, Wuling' 'Qingdao Sentury' 'Jinko Solar' 'Hunan TV'\n",
      " 'China Railway Construction, China Energy Engineering'\n",
      " 'China Life, Ping An' 'China Vanke' 'Tsinghua Holdings, CITIC'\n",
      " 'Cybernaut' 'Yantai Xinchao'\n",
      " 'State Construction Engineering, Anhui Foreign Economic Construction'\n",
      " 'Trina Solar' 'BYD' 'China Communications Bank' 'Zhongrun Resources'\n",
      " 'Jumei' 'CEFC' 'Zhongman Petroleum' 'ZOJE Resources'\n",
      " 'China Minsheng Investment' 'Uphill Investment'\n",
      " 'AVIC, Bohai Industrial Investment Fund' 'ChemChina, SAFE' 'Sinolight'\n",
      " 'China Railway Corp, Norinco' 'Taiping Life' 'NetDragon' 'Sinoenergy'\n",
      " 'Hongshi' 'Power Construction Corp, HTG'\n",
      " 'Power Construction Corp, China Railway Construction'\n",
      " 'Southern Power, State Power Investment' 'China Western Power Industrial'\n",
      " 'Antonoil' 'Phicomm' 'Jangho' 'Shanghai Municipal' 'Western Power'\n",
      " 'Bright Foods, JIC, Shenzhen Donghuatong'\n",
      " 'China Merchants, CIC, China Ocean Shipping' 'Biostime' 'Didi Kuadi'\n",
      " 'Shenzhen Government' 'Xian Longi' 'Fujian Thai Hot'\n",
      " 'Genimous Investment' 'C Banner International' 'Moon Lake Investments'\n",
      " 'CIC, Didi Kuaidi' 'Sinocare' 'Bona Film' 'Nantong Fujitsu' 'Renren'\n",
      " 'Shanxi Building Material, Asian and African Business Management'\n",
      " 'Zhejiang Chint' 'Shanghai Yuyuan Tourist Mart' 'GR Investment, CITIC'\n",
      " 'China Media Capital, CITIC'\n",
      " 'Zhuhai Port Holdings, State Construction Engineering' 'Landsea'\n",
      " 'Sinopec, Jiangxi Water' 'Qingdao Hengshun' 'Luye Group'\n",
      " 'State Power Investment' 'Highland Fund'\n",
      " 'Yunnan Construction Engineering' 'Liuhe' 'Shanghai Inesa'\n",
      " 'SAFE, China Reform Holdings' 'Zhongli' 'Beijing Municipal Government'\n",
      " 'Yunnan Energy Investment' 'Inspur Group' 'China Lilongwe Grand'\n",
      " 'Zhuzhou Kibing' 'Norinco, Shandong Taikai Group'\n",
      " 'State Construction Engineering, China Communications Construction'\n",
      " 'Chengdu Techcent' 'Perfect World Pictures' 'Visual China'\n",
      " 'Film Carnival' 'ENN Energy' 'Humanwell Healthcare'\n",
      " 'Jiangsu Yongding, Sinomach' 'State Grid, Power Construction Corp'\n",
      " 'China Light, Jiangxi Jianglian' 'Zhuhai Zhenrong'\n",
      " 'China National Silicon (consortium of Shanghai state firms)'\n",
      " 'Jiangsu Sunshine' 'Shanda Group' 'China Orient Asset Management'\n",
      " 'Huatai Securities' 'Zhuhai Seine Technology, Legend'\n",
      " 'HNA, Jin Jiang Hotels' 'Guangdong Heng Fu'\n",
      " 'China International Marine Containers' \"AVIC, Han's Laser\"\n",
      " 'Shanghai Zhongji' 'Tsinghua Holdings' 'Qianhai Zone Authority'\n",
      " 'Recon Group' 'China Everbright, Baofeng'\n",
      " 'Guangdong Province, Huaneng Power' 'Ningxia investors (Oman Wangfang)'\n",
      " 'Guangxi Investment' 'Envision Energy' 'Qingjian'\n",
      " 'Xinjiang Goldwind, China Energy Conservation'\n",
      " 'China Energy Conservation (Valiant)' 'Creat' 'SDIC' 'Suning'\n",
      " 'CIC, Wise Road Capital' 'Spearhead' 'Everbright' 'Genzon'\n",
      " 'Xiwang Group, Primavera Capital' 'China National Offshore Oil'\n",
      " 'Qihoo, Beijing Kunlun' 'China Resources' 'China Animal Husbandry'\n",
      " 'Jiquan Iron and Steel' 'IDG Capital, MLS, Yiwu State-Owned Assets'\n",
      " 'Hailiang' 'Zhonghong Zhuoye' 'Wuhan Zhengtang' 'Alpha Frontier'\n",
      " 'Fujian Construction Engineering'\n",
      " 'Shanghai Industrial, Primavera Capital' 'Didi Chuxing'\n",
      " 'Greenland-led consortium' 'Shanda Investment' 'Yunyi Guokai Shanghai'\n",
      " 'Jiangsu Longze' 'IDG Capital' 'Shanghai Municipal Investment'\n",
      " 'Shenyang Blue Silver' 'Tencent, Legend'\n",
      " 'Power Construction Corp, China Railway Engineering' 'Chengdu Tianqi'\n",
      " 'Chongqing USUM' 'Hangzhou Lianluo Interactive' 'Beijing Miteno'\n",
      " 'China Energy Conservation, Jiangsu Dadang, China Tianying'\n",
      " 'Shanghai Capital, China IC Fund' 'Sequoia Resources' 'Dare Group'\n",
      " 'Three Gorges, China Development Bank' 'Shenzhen Yuhu'\n",
      " 'Cultural Investment' 'Cinda, Union Life' 'Changsheng China'\n",
      " 'Shaanxi Ligeance'\n",
      " 'China Railway Contruction, China Railway Engineering, China Communications Construction'\n",
      " 'Qingdao Hengshun Zhongsheng' 'Dahua Group'\n",
      " 'Jiangsu Shagang-led consortium' 'Gansu Gangtai' 'Feihe International'\n",
      " 'WH Group' 'China Singyes'\n",
      " 'China Communications Construction, State Construction Engineering'\n",
      " 'Chongqing Foreign Trade and Economy Corporation' 'Shandong Dejian'\n",
      " 'Yonghui Superstores Co.' 'Oceanwide Holdings, IDG Capital'\n",
      " 'Zhejiang Jinke' 'Ming Yuan Silu' 'Orient Securities'\n",
      " 'Shenzhen Energy, Power Construction Corp' 'ChinaNetCenter'\n",
      " 'CEFC,Norinco' 'Shenyang Lan Sa' 'AVIC, Jiangxi Water' 'Wangsu S&T'\n",
      " 'Hebei Construction' 'Shandong Tianye' 'Sino-Europe Sports' 'CC Land'\n",
      " 'Qingdao Lu Haifeng' 'China Fortune'\n",
      " 'Henan International Cooperation, China City Construction'\n",
      " 'China Communications Construction, Power Construction Corp'\n",
      " 'Aier Eye Hospital' 'Zhengzhou Coal, Rennaisance Capital'\n",
      " 'Humanwell Healthcare, CITIC' 'Shanghai United Real Estate'\n",
      " 'Logan Property, Nanshan Group' 'Truking Group' 'Hangzhou Great Star'\n",
      " 'Pagoda Investments' 'Shanghai Gongbao, KaiXinRong' 'Beijing Zhonghuan'\n",
      " 'Power Construction Corp, Jiangsu Zhongli' 'Fortune Fountain Capital'\n",
      " 'China Galaxy Securities' 'JD.com' 'Tsingshan Steel, Delong Holdings'\n",
      " 'China Reform Holdings, ChemChina' 'Guangzhou R&F Properties, CC Land'\n",
      " 'Chongqing Sokon' 'CITIC-led fund' 'Sanyuan Foods, Fosun' 'China Eastern'\n",
      " 'Jiangsu Nantong'\n",
      " 'Jiangsu Overseas Cooperation and Investment-led consortium'\n",
      " 'Hengkang Medical' 'Shanghai Taison' 'iCarbonX'\n",
      " 'China Henan International Cooperation, China Railway Engineering, China Energy Conservation, Fujian Construction'\n",
      " 'Guangdong New South' 'Nantong, China Railway Construction'\n",
      " 'Shandong Hengyuan' 'Yanlord-led consortium' 'Lander Sports' 'Luxshare'\n",
      " 'Hongbo Group' 'Hubei Province Investment Arm'\n",
      " 'AVIC, China Railway Engineering' 'China Energy Conservation'\n",
      " 'China Railway Engineering, Power Construction Corp' 'Shandong Weigao'\n",
      " 'CIC, China Life' 'Cindat' '3SBio, CITIC' 'Zhongwang'\n",
      " 'China Reform Holdings' 'Sunlon, CITIC'\n",
      " 'China Iron and Steel Research Institute' 'Hosen Capital, China New Hope'\n",
      " 'MIE, Can-China Global Resources' 'Xinjiang Communications Construction'\n",
      " 'Vanke, Hopu, Hillhouse, Bank of China' 'Hisense Group'\n",
      " 'State Energy Investment' 'Primavera Capital' 'Guizhou Tyre'\n",
      " 'Shenzhen Metro, China Railway Construction' 'Shanghai-based consortium'\n",
      " 'Tempus' 'Hengtong Group' 'China Poly, Sinomach' 'Wuxi No.1 Cotton Mill'\n",
      " 'Triangle Tyre' 'China Tianying' 'Huaxin Cement'\n",
      " 'Sinomach, Shanghai Electric' 'By-Health' 'Caixin, CITIC'\n",
      " 'LONGi Green Energy' 'Shanghai Stock Exchange, Shenzhen Stock Exchange'\n",
      " 'Hanrui Cobalt, Qingyuan Keweike Mineral ' 'Hillhouse-led consortium'\n",
      " 'Shandong Yuhuang Chemical' 'Guizhou Transportation Planning'\n",
      " 'Power Construction Corp, State Grid' 'Tibet Summit, NextView Capital'\n",
      " 'GSR' 'Qingdao Doublestar' 'Anhui Shanying' 'Kunming Iron'\n",
      " 'Songcheng Performance'\n",
      " 'Shanghai Municipal Government, Chinese Academy of Sciences'\n",
      " 'Zhefu Holdings' 'Sanghai Safbon' 'Yunda' 'Shangdon Kerui' 'CITIC, CIC'\n",
      " 'Yu Kuo' 'Xinjiang Goldwind, Power Construction Corp' 'Country Garden'\n",
      " 'Xinjiang Beiken Energy Engineering' 'Henan Senyuan'\n",
      " 'Qumei Home Furnishing, Huatai Securities' 'China Grand' 'Nine Dragons'\n",
      " 'Highsun' 'Huazhu Hotels' 'Shenzhen Invengo' 'Zhejiang Semir'\n",
      " 'China Jinjiang Environment' 'Shandong Nanshan Aluminum'\n",
      " 'Shanghai Lingang' 'Ningbo Jifeng' 'Evergrande' 'CDH, China Grand'\n",
      " 'NetEase' 'YuanMing Capital led consortium' 'Wolong Electric'\n",
      " 'Chifeng Jilong' 'YY' 'Qifeng New Material' 'JiaHe JianAn'\n",
      " 'Agile Property'\n",
      " 'China Railway Engineering, China Communications Construction'\n",
      " 'Hunan Construction Engineering' 'Huadong' 'Jiangxi Holitech'\n",
      " 'Power Construction Engineering' 'AVIC, Shanghai Construction'\n",
      " 'China GEM-led consortium' 'China Reinsurance' 'Tianshui Huatian'\n",
      " 'Venus Medtech' 'China Energy Engineering, Norinco' 'Hongdou'\n",
      " 'Liaoning Port'\n",
      " 'China Communications Construction, China State Shipbuilding'\n",
      " 'Heilongjiang Construction' 'StarTimes'\n",
      " 'China Railway Corp, China Railway Engineering'\n",
      " 'Chinese Academy of Sciences' 'Group of Shanghai state investors'\n",
      " 'Jiangxi investors' 'Zhongrong Xinda' 'Jiangsu Hengyuan'\n",
      " 'CITIC-led consortium' 'BBK Electronics' 'Shenzhen Huafu' 'Wingtech'\n",
      " 'Contemporary Amperex Tech'\n",
      " 'China Energy Engineering, Power Construction Corp, Sinopec'\n",
      " 'Sunny Yi Feng' 'Tencent, Hillhouse, Meituan Dianping'\n",
      " 'Sichuan Road and Bridge' 'China Railway Construction-led consortium'\n",
      " 'Roadbot Tyre' 'GoerTek' 'Tencent, JD.Com'\n",
      " 'Shanxi Construction Investment' 'Minmetals, China Tianying'\n",
      " 'China Energy Engineering, Zhejiang Supcon'\n",
      " 'China Railway Engineering, Beijing Construction Engineering'\n",
      " 'ZTE, China Telecom' 'Anta Sports-led consortium ' 'Xiaomi'\n",
      " 'Jiangxi Ganfeng Lithium' 'China New Hope' 'Xtep International'\n",
      " 'Jiangsu Lianfa' 'China Small and Medium Enterprise Investment'\n",
      " 'Hillhouse' 'Lingsheng Investment' 'Hebei Rujiang'\n",
      " 'State Construction Engineering, Power Construction Corp, China Communications Construction'\n",
      " 'Wanhua Chemical'\n",
      " 'SDIC, China Gansu International Corp for Economic and Technical Cooperation'\n",
      " 'State Construction Engineering, Wengfu' 'Shanghai Greenland, Genertec'\n",
      " 'Bomesc Offshore Engineering' 'Chengtun Mining' 'Jiangsu Shagang'\n",
      " 'Konfoong Materials' 'Genertec, Beijing Power'\n",
      " 'State Power Investment, AVIC' 'TCL' 'Yifan Pharmaceuticals'\n",
      " 'China Telecom' 'Redco' 'China Energy Engineering, Sinomach'\n",
      " 'Zhejiang Huayou Cobalt, China Molybdenum, Tsingshan'\n",
      " 'Meituan Dianping-led consortium' 'Jiangxi Wanguo, AXF' 'Yanlord'\n",
      " 'Tianjin Zhonghuan Semi' 'Jingxing Paper' 'Skyworth' 'Goodix Technology'\n",
      " 'China Merchants-led consortium' 'Zhejiang Lygend' 'Guangdong Wencan'\n",
      " 'Zhejiang Xinshengda' 'CNPC, China State Shipbuilding'\n",
      " 'China Railway Signal and Communication' 'Cedar Group'\n",
      " 'West China Cement' 'Sun Share Investments' 'Dongbei Steel'\n",
      " 'Shandong Gaosu, Power Construction Corp' 'China Everbright'\n",
      " 'Global Logistics Properties' 'Shandong Haohua'\n",
      " 'China Maple Leaf Educational' 'Shanshan Technology'\n",
      " 'China Railway Construction, AVIC' 'CRRC' 'Bytedance'\n",
      " 'China National Chemical Engineering-led Group'\n",
      " 'China National Chemical Engineering, East China Engineering'\n",
      " 'China Communications Construction-led Unit'\n",
      " 'China Communications Construction, China Railway Construction'\n",
      " 'JA Solar' 'Pharmaron Beijing' 'Minmetals-led Unit'\n",
      " 'Hefei Ray Capital Management' 'Power Construction Corp-led Unit'\n",
      " 'Power Construction Corp, Minmetals']\n",
      "['North America' 'USA' 'Arab Middle East and North Africa' 'South America'\n",
      " 'East Asia' 'West Asia' 'Europe' 'Australia' 'Sub-Saharan Africa']\n",
      "[  500  1740   100   550   150   370   670   170   130   240   390   120\n",
      "   860  1270  4200  1420   200   350   180   140   300  1190   290   210\n",
      "   430   900   580   490   480  2270   310   280   540  2920   460  1300\n",
      "  1290   740  1500   110  6250  3490   400   260   160   330  2840  2400\n",
      "  1910   940   230   800  2000   340   220   970   520   250   700  3990\n",
      "  1110   190   360   690   650   600   990  3030   790   560   410  3040\n",
      "   640  5600   610  2700  1200  2870  2010  5000   450  1310   880  1080\n",
      "   620  1830  1580   470 12800  2600  1180  2800  1400  2160  2140  4990\n",
      "  2510  2940  2490  1350  1320   810   440  1990   760   680  5790   320\n",
      "  1510  3290   820  1760   770  1130  1160  2990  1020  1860  7200  1210\n",
      "   710  1390   890  2570  2420  1650   270   530  2950  1090   720  1000\n",
      "  5590  1380   960   850  3130   380   730  3100  1260  2690   420  4650\n",
      "   840   780  1220  3070  1480  1720  1040  1010  1150  1680  2300   570\n",
      "  1440  2370  7100  2500   750  1230  1030  2470   920   510  1470  1660\n",
      "  1520  2030   830  1490  1060   590  2290  2040  1360   930  3240  1950\n",
      "  1280  1690  2100  4800  2210  3510  3710  5630  2200   980  2380  1940\n",
      "   950  1250   630  1750  2660  1930   660  1630  2180 15100  1700  1570\n",
      "  1100  4210  1140  1460  3810  5300   910   870  2890  1370  2460  2910\n",
      "  1450  2760  1120  6990  1560  1240  1540  1640  1920  1330  2960  1980\n",
      "  1600  2580  3440  6500  3220  1620  1670  1070  1900  1840  1800  7860\n",
      "  1790  2590  2810  1810  5170  1780  5960  3660  1340  1870  1550  3500\n",
      "  5400  1590  6000  5720  3400  2650  1960  2750  8600  2150  4400  4680\n",
      "  2120  4910  1050  1770  2310  1410  1170 10380  2520 43060  2770 13790\n",
      "  1430  2260  2170  9060  2240  1530  9660  2060  3270  9030  1850  4070\n",
      "  2440  2130  3450  2830  4170  2360  3020  2080  5050  4040  8860  3590\n",
      "  2620  2230  3420]\n",
      "[nan 0.85 0.17 0.4 1 0.67 0.45 0.5 0.16 0.75 0.49 0.51 0.55 0.01 0.9 0.89\n",
      " '45%, 35%, 20%' 0.09 0.11 0.7 0.8 0.08 0.031 0.2 0.04 0.099 '1%, 1%'\n",
      " 0.168 0.05 '20%, 35%' 0.6 0.016 0.28 '20%, 20%' 0.29 0.026 0.21\n",
      " '20%, 25%' 0.93 0.1 0.46 0.24 '34%, 33%, 21%, 12%' 0.19 0.0275 0.13 0.37\n",
      " 0.15 0.22 0.81 0.023 0.35 0.125 0.103 '5%, 45%' 0.33 0.48 0.18 0.68 0.014\n",
      " 0.58 0.84 0.64 0.25 0.31 0.82 0.99 0.3 0.03 0.96 0.77 0.38 0.087 0.199\n",
      " 0.52 0.41 0.61 0.07 '35%,25%,20%' '65%, 35%' '10%,10%,10%' 0.26 0.02 0.92\n",
      " 0.06 0.12 0.47 0.59 '10%, 10%' 0.74 0.27 0.95 0.14 '2%, 3%' 0.76\n",
      " '63, 22, 15%' 0.78 '10%, 5%' 0.65 0.23 0.72 0.56 0.63 '55%, 40%' 0.83\n",
      " 0.34 0.015 0.048 0.033 0.66 0.034 0.57 0.79 0.69 '60, 20%' 0.44 0.91 0.98\n",
      " 0.39 0.32 0.54 0.53 0.87 0.94 0.97 0.62 0.71]\n",
      "['Cubapetroleo' 'IBM' nan ... 'Resolute' 'Bayer' 'Vivendi']\n",
      "['Metals' 'Technology' 'Transport' 'Utilities' 'Real estate' 'Energy'\n",
      " 'Chemicals' 'Agriculture' 'Other' 'Finance' 'Logistics' 'Entertainment'\n",
      " 'Tourism' 'Health']\n",
      "[nan 'Aviation' 'Copper' 'Autos' 'Steel' 'Construction' 'Oil' 'Coal'\n",
      " 'Rail' 'Hydro' 'Aluminum' 'Property' 'Gas' 'Timber' 'Alternative'\n",
      " 'Telecom' 'Investment' 'Shipping' 'Banking' 'Textiles' 'Education'\n",
      " 'Industry' 'Consumer']\n",
      "['Cuba' 'USA' 'Qatar' 'Chile' 'Oman' 'Ecuador' 'Papua New Guinea'\n",
      " 'Saudi Arabia' 'Canada' 'Sudan' 'Brazil' 'Algeria' 'Indonesia'\n",
      " 'Mauritania' 'Turkey' 'Britain' 'Myanmar' 'Kazakhstan' 'Mongolia'\n",
      " 'Australia' 'Laos' 'Venezuela' 'Syria' 'Iran' 'Angola' 'Pakistan'\n",
      " 'France' 'Nigeria' 'UAE' 'Cambodia' 'Sri Lanka' 'Russian Federation'\n",
      " 'India' 'Tajikistan' 'Yemen' 'Congo' 'Botswana' 'Vietnam' 'Japan'\n",
      " 'Colombia' 'Ethiopia' 'Egypt' 'Zambia' 'South Africa'\n",
      " 'Democratic Republic of the Congo' 'Netherlands' 'Singapore' 'Chad'\n",
      " 'Peru' 'Kuwait' 'Equatorial Guinea' 'Ghana' 'Germany' 'Turkmenistan'\n",
      " 'Mexico' 'Uzbekistan' 'Azerbaijan' 'Tanzania' 'Hungary' 'Jordan'\n",
      " 'Belgium' 'Afghanistan' 'Zimbabwe' 'Iraq' 'Niger' 'Belarus' 'Philippines'\n",
      " 'Georgia' 'Trinidad-Tobago' 'Libya' 'Morocco' 'Malaysia' 'Cyprus' 'Italy'\n",
      " 'Norway' 'Mozambique' 'Ukraine' 'Greece' 'Gabon' 'Liberia' 'Mali'\n",
      " 'Costa Rica' 'Madagascar' 'Czech Republic' 'Togo' 'Guyana' 'Fiji'\n",
      " 'Switzerland' 'Mauritius' 'Tunisia' 'Thailand' 'Spain' 'Bahamas'\n",
      " 'Senegal' 'Bulgaria' 'Austria' 'Bangladesh' 'Cameroon' 'Brunei'\n",
      " 'Argentina' 'Sweden' 'Sierra Leone' 'Serbia' 'South Korea' 'Kenya'\n",
      " 'Jamaica' 'Bosnia' 'Guatemala' 'Nepal' 'Israel' 'North Korea'\n",
      " 'Kyrgyzstan' 'Guinea' 'Portugal' 'South Sudan' 'Uganda' 'Poland' 'Benin'\n",
      " 'Djibouti' 'Bolivia' 'New Zealand' 'Nicaragua' 'Romania' 'Rwanda'\n",
      " 'Malawi' 'Ivory Coast' 'Taiwan' 'Honduras' 'Sao Tome' 'Denmark'\n",
      " 'Macedonia' 'Namibia' 'Luxembourg' 'Eritrea' 'Malta' 'Montenegro'\n",
      " 'Guinea-Bissau' 'Antigua and Barbuda' 'Croatia' 'Maldives' 'Timor-Leste'\n",
      " 'Panama' 'Ireland' 'Barbados' 'Latvia' 'Finland' 'Cape Verde' 'Slovenia'\n",
      " 'Samoa' 'Moldova' 'Lesotho' 'Bahrain' 'Solomon Islands']\n",
      "['North America' 'USA' 'Arab Middle East and North Africa' 'South America'\n",
      " 'East Asia' 'West Asia' 'Europe' 'Australia' 'Sub-Saharan Africa']\n",
      "[nan  0.  1.]\n",
      "['G' nan]\n"
     ]
    }
   ],
   "source": [
    "for x in uniques:\n",
    "    print(x)"
   ]
  },
  {
   "cell_type": "markdown",
   "metadata": {},
   "source": [
    "### Chinese Company Number\n",
    "Note the large amount of Chinese companies. This will make it extremely hard to make comparisons. The companies should be split into groups (bins) based on the amount of investments/number of investments."
   ]
  },
  {
   "cell_type": "code",
   "execution_count": 6,
   "metadata": {},
   "outputs": [
    {
     "name": "stdout",
     "output_type": "stream",
     "text": [
      "North America is:\n",
      "['Cuba' 'Canada' 'Mexico' 'Trinidad-Tobago' 'Costa Rica' 'Bahamas'\n",
      " 'Jamaica' 'Guatemala' 'Nicaragua' 'Honduras' 'Antigua and Barbuda'\n",
      " 'Panama' 'Barbados']\n",
      "USA is:\n",
      "['USA']\n",
      "Arab Middle East and North Africa is:\n",
      "['Qatar' 'Oman' 'Saudi Arabia' 'Sudan' 'Algeria' 'Mauritania' 'Syria'\n",
      " 'UAE' 'Yemen' 'Egypt' 'Kuwait' 'Jordan' 'Iraq' 'Libya' 'Morocco'\n",
      " 'Tunisia' 'Bahrain']\n",
      "South America is:\n",
      "['Chile' 'Ecuador' 'Brazil' 'Venezuela' 'Colombia' 'Peru' 'Guyana'\n",
      " 'Argentina' 'Bolivia']\n",
      "East Asia is:\n",
      "['Papua New Guinea' 'Indonesia' 'Myanmar' 'Mongolia' 'Laos' 'Cambodia'\n",
      " 'Vietnam' 'Japan' 'Singapore' 'Philippines' 'Malaysia' 'Fiji' 'Thailand'\n",
      " 'Brunei' 'South Korea' 'North Korea' 'New Zealand' 'Taiwan' 'Timor-Leste'\n",
      " 'Samoa' 'Solomon Islands']\n",
      "West Asia is:\n",
      "['Turkey' 'Kazakhstan' 'Iran' 'Pakistan' 'Sri Lanka' 'Russian Federation'\n",
      " 'India' 'Tajikistan' 'Turkmenistan' 'Uzbekistan' 'Azerbaijan'\n",
      " 'Afghanistan' 'Georgia' 'Bangladesh' 'Nepal' 'Kyrgyzstan' 'Maldives']\n",
      "Europe is:\n",
      "['Britain' 'France' 'Netherlands' 'Germany' 'Hungary' 'Belgium' 'Belarus'\n",
      " 'Cyprus' 'Italy' 'Norway' 'Ukraine' 'Greece' 'Czech Republic'\n",
      " 'Switzerland' 'Spain' 'Bulgaria' 'Austria' 'Sweden' 'Serbia' 'Bosnia'\n",
      " 'Israel' 'Portugal' 'Poland' 'Romania' 'Denmark' 'Macedonia' 'Luxembourg'\n",
      " 'Malta' 'Montenegro' 'Croatia' 'Ireland' 'Latvia' 'Finland' 'Slovenia'\n",
      " 'Moldova']\n",
      "Australia is:\n",
      "['Australia']\n",
      "Sub-Saharan Africa is:\n",
      "['Angola' 'Nigeria' 'Congo' 'Botswana' 'Ethiopia' 'Zambia' 'South Africa'\n",
      " 'Democratic Republic of the Congo' 'Chad' 'Equatorial Guinea' 'Ghana'\n",
      " 'Tanzania' 'Zimbabwe' 'Niger' 'Mozambique' 'Gabon' 'Liberia' 'Mali'\n",
      " 'Madagascar' 'Togo' 'Mauritius' 'Senegal' 'Cameroon' 'Sierra Leone'\n",
      " 'Kenya' 'Guinea' 'South Sudan' 'Uganda' 'Benin' 'Djibouti' 'Rwanda'\n",
      " 'Malawi' 'Ivory Coast' 'Sao Tome' 'Namibia' 'Eritrea' 'Guinea-Bissau'\n",
      " 'Cape Verde' 'Lesotho']\n"
     ]
    }
   ],
   "source": [
    "for x in regions:\n",
    "    print(x + \" is:\")\n",
    "    print(df[df.region == x].country.unique())"
   ]
  },
  {
   "cell_type": "markdown",
   "metadata": {},
   "source": [
    "Note that USA is placed as it's own region. It may be good to change this before working further with the data."
   ]
  },
  {
   "cell_type": "code",
   "execution_count": 7,
   "metadata": {},
   "outputs": [
    {
     "name": "stdout",
     "output_type": "stream",
     "text": [
      "{'North America': 613, 'USA': 652, 'Arab Middle East and North Africa': 541, 'South America': 775, 'East Asia': 462, 'West Asia': 574, 'Europe': 803, 'Australia': 585, 'Sub-Saharan Africa': 503}\n"
     ]
    }
   ],
   "source": [
    "region_averages = {}\n",
    "\n",
    "for x in regions:\n",
    "    regional_average = int(df[df.region == x].quantity_in_millions.mean())\n",
    "    region_averages[x] = regional_average\n",
    "    \n",
    "print(region_averages)"
   ]
  },
  {
   "cell_type": "code",
   "execution_count": 8,
   "metadata": {},
   "outputs": [
    {
     "name": "stdout",
     "output_type": "stream",
     "text": [
      "             Country  Averages\n",
      "0               Cuba       246\n",
      "1                USA       652\n",
      "2              Qatar       390\n",
      "3              Chile      1233\n",
      "4               Oman       551\n",
      "..               ...       ...\n",
      "148            Samoa       110\n",
      "149          Moldova       280\n",
      "150          Lesotho       100\n",
      "151          Bahrain       710\n",
      "152  Solomon Islands       200\n",
      "\n",
      "[153 rows x 2 columns]\n"
     ]
    }
   ],
   "source": [
    "country_averages = {}\n",
    "\n",
    "for x in country:\n",
    "    country_average = int(df[df.country == x].quantity_in_millions.mean())\n",
    "    country_averages[x] = country_average\n",
    "\n",
    "values = list(country_averages.values())\n",
    "keys = list(country_averages.keys())\n",
    "df2 = pd.DataFrame({'Country' : keys, 'Averages' : values})\n",
    "print(df2)"
   ]
  },
  {
   "cell_type": "code",
   "execution_count": 9,
   "metadata": {},
   "outputs": [
    {
     "data": {
      "text/plain": [
       "<matplotlib.collections.PathCollection at 0x13ab80cbfd0>"
      ]
     },
     "execution_count": 9,
     "metadata": {},
     "output_type": "execute_result"
    },
    {
     "data": {
      "image/png": "[encoded data removed]",
      "text/plain": [
       "<Figure size 432x288 with 1 Axes>"
      ]
     },
     "metadata": {
      "needs_background": "light"
     },
     "output_type": "display_data"
    }
   ],
   "source": [
    "plt.scatter(df2.Country, df2.Averages)"
   ]
  },
  {
   "cell_type": "markdown",
   "metadata": {},
   "source": [
    "### Outliers\n",
    "Major obvious outliers show that data could easily end up skewed. Let's identify them in the following section."
   ]
  },
  {
   "cell_type": "code",
   "execution_count": 10,
   "metadata": {},
   "outputs": [
    {
     "name": "stdout",
     "output_type": "stream",
     "text": [
      "         Country  Averages\n",
      "69         Libya      2600\n",
      "87   Switzerland      3400\n",
      "145      Finland      2238\n"
     ]
    }
   ],
   "source": [
    "df2_outliers = df2[df2.Averages > 2000]\n",
    "print(df2_outliers)"
   ]
  },
  {
   "cell_type": "markdown",
   "metadata": {},
   "source": [
    "### Using Quantity / Number of investments\n",
    "It may be better to use Quantity / Number of investments, or else simply use total investments (or total per year)."
   ]
  },
  {
   "cell_type": "code",
   "execution_count": 11,
   "metadata": {},
   "outputs": [
    {
     "name": "stdout",
     "output_type": "stream",
     "text": [
      "             Country   Total\n",
      "0               Cuba     740\n",
      "1                USA  189280\n",
      "2              Qatar    7800\n",
      "3              Chile   14800\n",
      "4               Oman    6620\n",
      "..               ...     ...\n",
      "148            Samoa     110\n",
      "149          Moldova     560\n",
      "150          Lesotho     100\n",
      "151          Bahrain    1420\n",
      "152  Solomon Islands     200\n",
      "\n",
      "[153 rows x 2 columns]\n"
     ]
    }
   ],
   "source": [
    "#Compute totals\n",
    "totals = {}\n",
    "for x in df.country:\n",
    "    totalx = 0\n",
    "    for y in df[df.country == x].quantity_in_millions:\n",
    "        totalx += y\n",
    "    totals[x] = totalx\n",
    "\n",
    "df3 = pd.DataFrame({'Country' : list(totals.keys()), 'Total' : list(totals.values())})\n",
    "print(df3)"
   ]
  },
  {
   "cell_type": "code",
   "execution_count": 12,
   "metadata": {},
   "outputs": [
    {
     "data": {
      "text/plain": [
       "<matplotlib.collections.PathCollection at 0x13ab89b6970>"
      ]
     },
     "execution_count": 12,
     "metadata": {},
     "output_type": "execute_result"
    },
    {
     "data": {
      "image/png": "[encoded data removed]",
      "text/plain": [
       "<Figure size 432x288 with 1 Axes>"
      ]
     },
     "metadata": {
      "needs_background": "light"
     },
     "output_type": "display_data"
    }
   ],
   "source": [
    "#Plot totals\n",
    "plt.scatter(df3.Country,df3.Total)"
   ]
  },
  {
   "cell_type": "code",
   "execution_count": 13,
   "metadata": {},
   "outputs": [
    {
     "name": "stdout",
     "output_type": "stream",
     "text": [
      "13696.013071895424\n"
     ]
    }
   ],
   "source": [
    "#Find average total\n",
    "print(df3.Total.mean())"
   ]
  },
  {
   "cell_type": "code",
   "execution_count": 14,
   "metadata": {},
   "outputs": [
    {
     "data": {
      "text/plain": [
       "(array([122.,  17.,   7.,   4.,   0.,   1.,   1.,   0.,   0.,   1.]),\n",
       " array([1.00000e+02, 1.90180e+04, 3.79360e+04, 5.68540e+04, 7.57720e+04,\n",
       "        9.46900e+04, 1.13608e+05, 1.32526e+05, 1.51444e+05, 1.70362e+05,\n",
       "        1.89280e+05]),\n",
       " <a list of 10 Patch objects>)"
      ]
     },
     "execution_count": 14,
     "metadata": {},
     "output_type": "execute_result"
    },
    {
     "data": {
      "image/png": "[encoded data removed]",
      "text/plain": [
       "<Figure size 432x288 with 1 Axes>"
      ]
     },
     "metadata": {
      "needs_background": "light"
     },
     "output_type": "display_data"
    }
   ],
   "source": [
    "plt.hist(df3.Total,bins=10)"
   ]
  },
  {
   "cell_type": "markdown",
   "metadata": {},
   "source": [
    "### Inequality in investments\n",
    "From the prior total graphs it remains obvious that there is gigantic inequality in the amount invested per country. This only confirms that greater information may be gained in comparing it to GDP. \n",
    "\n",
    "Inequality in investment does not mean anything in and of itself, but paying attention to which countries are most invested in, and separating a major group of those strong outliers may be a good investigation of OBOR movements.\n",
    "\n",
    "Comparing the GDP to investments and finding the major players in that (as in, those where the OBOR investments / GDP are the highest) may show some indication in the nations that China is seeking for the most trade and political weight. This could be additionally interesting in developing countries where China is taking great moves to improve the development and the infrastructure.\n",
    "\n",
    "The data that is being used includes a construction sheet. Using this in those developing countries (say the lowest one or two bins of the GDP data once it is constructed) may also be a good indication of this).\n",
    "\n",
    "#### Next Steps\n",
    "The GDP data for the test series to see if there is correlation should be completed, even though ideally all GDP data should be finalized before moving on. As this is having to be pulled manually, it may take a few days to complete."
   ]
  },
  {
   "cell_type": "markdown",
   "metadata": {},
   "source": [
    "# Introducing GDP into the equation\n",
    "GDP file has been completed. Time to upload it and split it into Bins."
   ]
  },
  {
   "cell_type": "code",
   "execution_count": 15,
   "metadata": {},
   "outputs": [],
   "source": [
    "df4 = pd.read_excel(\"countryvgdp.xlsx\", engine = \"openpyxl\", index_col = 'country')"
   ]
  },
  {
   "cell_type": "code",
   "execution_count": 16,
   "metadata": {},
   "outputs": [
    {
     "name": "stdout",
     "output_type": "stream",
     "text": [
      "             2005      2006      2007      2008      2009      2010      2011  \\\n",
      "country                                                                         \n",
      "Cuba        42.64     52.74     58.60     60.81     62.08     64.38     68.99   \n",
      "USA      13036.64  13814.61  14451.86  14712.85  14448.93  14992.05  15542.58   \n",
      "Qatar       44.53     60.88     79.71    115.27     97.80    125.12    167.73   \n",
      "Chile      123.00    154.80    173.60    179.60    172.40    218.50    252.30   \n",
      "Oman        31.08     37.22     42.09     60.91     48.39     57.05     68.02   \n",
      "\n",
      "             2012      2013      2014      2015      2016      2017      2018  \\\n",
      "country                                                                         \n",
      "Cuba        73.14     77.15     80.65     87.13     91.37     96.85    100.02   \n",
      "USA      16197.01  16784.85  17527.26  18238.30  18745.08  19542.98  20611.86   \n",
      "Qatar      186.83    198.73    206.22     61.74     51.73    166.93    191.36   \n",
      "Chile      267.10    278.40    260.50    243.90    250.40    277.00    298.30   \n",
      "Oman        76.62     78.78     81.08     68.40     65.48     70.60     79.28   \n",
      "\n",
      "             2019  Unnamed: 16  \n",
      "country                         \n",
      "Cuba          NaN          NaN  \n",
      "USA      21423.20          NaN  \n",
      "Qatar      183.41          NaN  \n",
      "Chile      232.30          NaN  \n",
      "Oman        76.98          NaN  \n"
     ]
    }
   ],
   "source": [
    "print(df4.head())"
   ]
  },
  {
   "cell_type": "markdown",
   "metadata": {},
   "source": [
    "### Transposing table\n",
    "As the table needs to be used for means of each years in order to create bins, it will be simpler to work with transposed."
   ]
  },
  {
   "cell_type": "code",
   "execution_count": 17,
   "metadata": {},
   "outputs": [],
   "source": [
    "df5 = df4.T"
   ]
  },
  {
   "cell_type": "code",
   "execution_count": 18,
   "metadata": {},
   "outputs": [
    {
     "data": {
      "text/html": [
       "<div>\n",
       "<style scoped>\n",
       "    .dataframe tbody tr th:only-of-type {\n",
       "        vertical-align: middle;\n",
       "    }\n",
       "\n",
       "    .dataframe tbody tr th {\n",
       "        vertical-align: top;\n",
       "    }\n",
       "\n",
       "    .dataframe thead th {\n",
       "        text-align: right;\n",
       "    }\n",
       "</style>\n",
       "<table border=\"1\" class=\"dataframe\">\n",
       "  <thead>\n",
       "    <tr style=\"text-align: right;\">\n",
       "      <th>country</th>\n",
       "      <th>Cuba</th>\n",
       "      <th>USA</th>\n",
       "      <th>Qatar</th>\n",
       "      <th>Chile</th>\n",
       "      <th>Oman</th>\n",
       "      <th>Ecuador</th>\n",
       "      <th>Papua New Guinea</th>\n",
       "      <th>Saudi Arabia</th>\n",
       "      <th>Canada</th>\n",
       "      <th>Sudan</th>\n",
       "      <th>...</th>\n",
       "      <th>Barbados</th>\n",
       "      <th>Latvia</th>\n",
       "      <th>Finland</th>\n",
       "      <th>Cape Verde</th>\n",
       "      <th>Slovenia</th>\n",
       "      <th>Samoa</th>\n",
       "      <th>Moldova</th>\n",
       "      <th>Lesotho</th>\n",
       "      <th>Bahrain</th>\n",
       "      <th>Solomon Islands</th>\n",
       "    </tr>\n",
       "  </thead>\n",
       "  <tbody>\n",
       "    <tr>\n",
       "      <th>2005</th>\n",
       "      <td>42.64</td>\n",
       "      <td>13036.64</td>\n",
       "      <td>44.53</td>\n",
       "      <td>123.0</td>\n",
       "      <td>31.08</td>\n",
       "      <td>41.51</td>\n",
       "      <td>4.87</td>\n",
       "      <td>328.46</td>\n",
       "      <td>1169.36</td>\n",
       "      <td>26.52</td>\n",
       "      <td>...</td>\n",
       "      <td>3.90</td>\n",
       "      <td>16.91</td>\n",
       "      <td>204.81</td>\n",
       "      <td>0.97</td>\n",
       "      <td>36.21</td>\n",
       "      <td>0.47</td>\n",
       "      <td>2.99</td>\n",
       "      <td>1.68</td>\n",
       "      <td>15.97</td>\n",
       "      <td>0.41</td>\n",
       "    </tr>\n",
       "    <tr>\n",
       "      <th>2006</th>\n",
       "      <td>52.74</td>\n",
       "      <td>13814.61</td>\n",
       "      <td>60.88</td>\n",
       "      <td>154.8</td>\n",
       "      <td>37.22</td>\n",
       "      <td>46.80</td>\n",
       "      <td>8.31</td>\n",
       "      <td>376.90</td>\n",
       "      <td>1315.42</td>\n",
       "      <td>35.82</td>\n",
       "      <td>...</td>\n",
       "      <td>4.22</td>\n",
       "      <td>21.44</td>\n",
       "      <td>216.91</td>\n",
       "      <td>1.11</td>\n",
       "      <td>39.48</td>\n",
       "      <td>0.51</td>\n",
       "      <td>3.41</td>\n",
       "      <td>1.80</td>\n",
       "      <td>18.50</td>\n",
       "      <td>0.46</td>\n",
       "    </tr>\n",
       "    <tr>\n",
       "      <th>2007</th>\n",
       "      <td>58.60</td>\n",
       "      <td>14451.86</td>\n",
       "      <td>79.71</td>\n",
       "      <td>173.6</td>\n",
       "      <td>42.09</td>\n",
       "      <td>51.01</td>\n",
       "      <td>9.55</td>\n",
       "      <td>415.96</td>\n",
       "      <td>1464.98</td>\n",
       "      <td>45.90</td>\n",
       "      <td>...</td>\n",
       "      <td>4.67</td>\n",
       "      <td>30.90</td>\n",
       "      <td>256.05</td>\n",
       "      <td>1.51</td>\n",
       "      <td>48.01</td>\n",
       "      <td>0.57</td>\n",
       "      <td>4.40</td>\n",
       "      <td>1.72</td>\n",
       "      <td>21.73</td>\n",
       "      <td>0.52</td>\n",
       "    </tr>\n",
       "    <tr>\n",
       "      <th>2008</th>\n",
       "      <td>60.81</td>\n",
       "      <td>14712.85</td>\n",
       "      <td>115.27</td>\n",
       "      <td>179.6</td>\n",
       "      <td>60.91</td>\n",
       "      <td>61.76</td>\n",
       "      <td>11.67</td>\n",
       "      <td>519.80</td>\n",
       "      <td>1549.13</td>\n",
       "      <td>54.53</td>\n",
       "      <td>...</td>\n",
       "      <td>4.78</td>\n",
       "      <td>35.66</td>\n",
       "      <td>284.55</td>\n",
       "      <td>1.79</td>\n",
       "      <td>55.55</td>\n",
       "      <td>0.62</td>\n",
       "      <td>6.05</td>\n",
       "      <td>1.76</td>\n",
       "      <td>25.71</td>\n",
       "      <td>0.61</td>\n",
       "    </tr>\n",
       "    <tr>\n",
       "      <th>2009</th>\n",
       "      <td>62.08</td>\n",
       "      <td>14448.93</td>\n",
       "      <td>97.80</td>\n",
       "      <td>172.4</td>\n",
       "      <td>48.39</td>\n",
       "      <td>62.52</td>\n",
       "      <td>11.62</td>\n",
       "      <td>429.10</td>\n",
       "      <td>1371.15</td>\n",
       "      <td>49.96</td>\n",
       "      <td>...</td>\n",
       "      <td>4.47</td>\n",
       "      <td>26.25</td>\n",
       "      <td>252.50</td>\n",
       "      <td>1.71</td>\n",
       "      <td>50.37</td>\n",
       "      <td>0.58</td>\n",
       "      <td>5.44</td>\n",
       "      <td>1.77</td>\n",
       "      <td>22.94</td>\n",
       "      <td>0.60</td>\n",
       "    </tr>\n",
       "    <tr>\n",
       "      <th>2010</th>\n",
       "      <td>64.38</td>\n",
       "      <td>14992.05</td>\n",
       "      <td>125.12</td>\n",
       "      <td>218.5</td>\n",
       "      <td>57.05</td>\n",
       "      <td>69.56</td>\n",
       "      <td>14.25</td>\n",
       "      <td>528.21</td>\n",
       "      <td>1613.46</td>\n",
       "      <td>61.74</td>\n",
       "      <td>...</td>\n",
       "      <td>4.53</td>\n",
       "      <td>23.80</td>\n",
       "      <td>249.18</td>\n",
       "      <td>1.66</td>\n",
       "      <td>48.16</td>\n",
       "      <td>0.66</td>\n",
       "      <td>6.97</td>\n",
       "      <td>2.27</td>\n",
       "      <td>25.71</td>\n",
       "      <td>0.68</td>\n",
       "    </tr>\n",
       "    <tr>\n",
       "      <th>2011</th>\n",
       "      <td>68.99</td>\n",
       "      <td>15542.58</td>\n",
       "      <td>167.73</td>\n",
       "      <td>252.3</td>\n",
       "      <td>68.02</td>\n",
       "      <td>79.28</td>\n",
       "      <td>17.98</td>\n",
       "      <td>671.24</td>\n",
       "      <td>1788.65</td>\n",
       "      <td>57.89</td>\n",
       "      <td>...</td>\n",
       "      <td>4.66</td>\n",
       "      <td>28.49</td>\n",
       "      <td>275.24</td>\n",
       "      <td>1.86</td>\n",
       "      <td>51.51</td>\n",
       "      <td>0.74</td>\n",
       "      <td>8.41</td>\n",
       "      <td>2.62</td>\n",
       "      <td>28.78</td>\n",
       "      <td>0.93</td>\n",
       "    </tr>\n",
       "    <tr>\n",
       "      <th>2012</th>\n",
       "      <td>73.14</td>\n",
       "      <td>16197.01</td>\n",
       "      <td>186.83</td>\n",
       "      <td>267.1</td>\n",
       "      <td>76.62</td>\n",
       "      <td>87.92</td>\n",
       "      <td>21.30</td>\n",
       "      <td>735.97</td>\n",
       "      <td>1828.69</td>\n",
       "      <td>52.77</td>\n",
       "      <td>...</td>\n",
       "      <td>4.61</td>\n",
       "      <td>28.18</td>\n",
       "      <td>258.30</td>\n",
       "      <td>1.75</td>\n",
       "      <td>46.58</td>\n",
       "      <td>0.76</td>\n",
       "      <td>8.71</td>\n",
       "      <td>2.53</td>\n",
       "      <td>30.75</td>\n",
       "      <td>1.06</td>\n",
       "    </tr>\n",
       "    <tr>\n",
       "      <th>2013</th>\n",
       "      <td>77.15</td>\n",
       "      <td>16784.85</td>\n",
       "      <td>198.73</td>\n",
       "      <td>278.4</td>\n",
       "      <td>78.78</td>\n",
       "      <td>95.13</td>\n",
       "      <td>21.26</td>\n",
       "      <td>746.65</td>\n",
       "      <td>1847.21</td>\n",
       "      <td>57.73</td>\n",
       "      <td>...</td>\n",
       "      <td>4.68</td>\n",
       "      <td>30.27</td>\n",
       "      <td>271.29</td>\n",
       "      <td>1.85</td>\n",
       "      <td>48.40</td>\n",
       "      <td>0.77</td>\n",
       "      <td>9.50</td>\n",
       "      <td>2.42</td>\n",
       "      <td>32.54</td>\n",
       "      <td>1.13</td>\n",
       "    </tr>\n",
       "    <tr>\n",
       "      <th>2014</th>\n",
       "      <td>80.65</td>\n",
       "      <td>17527.26</td>\n",
       "      <td>206.22</td>\n",
       "      <td>260.5</td>\n",
       "      <td>81.08</td>\n",
       "      <td>101.73</td>\n",
       "      <td>23.21</td>\n",
       "      <td>756.35</td>\n",
       "      <td>1803.53</td>\n",
       "      <td>64.94</td>\n",
       "      <td>...</td>\n",
       "      <td>4.70</td>\n",
       "      <td>31.38</td>\n",
       "      <td>274.50</td>\n",
       "      <td>1.86</td>\n",
       "      <td>49.93</td>\n",
       "      <td>0.76</td>\n",
       "      <td>9.51</td>\n",
       "      <td>2.50</td>\n",
       "      <td>33.39</td>\n",
       "      <td>1.17</td>\n",
       "    </tr>\n",
       "    <tr>\n",
       "      <th>2015</th>\n",
       "      <td>87.13</td>\n",
       "      <td>18238.30</td>\n",
       "      <td>61.74</td>\n",
       "      <td>243.9</td>\n",
       "      <td>68.40</td>\n",
       "      <td>99.29</td>\n",
       "      <td>21.72</td>\n",
       "      <td>654.27</td>\n",
       "      <td>1556.13</td>\n",
       "      <td>74.29</td>\n",
       "      <td>...</td>\n",
       "      <td>4.72</td>\n",
       "      <td>27.09</td>\n",
       "      <td>234.44</td>\n",
       "      <td>1.60</td>\n",
       "      <td>43.09</td>\n",
       "      <td>0.79</td>\n",
       "      <td>7.75</td>\n",
       "      <td>2.37</td>\n",
       "      <td>21.13</td>\n",
       "      <td>1.15</td>\n",
       "    </tr>\n",
       "    <tr>\n",
       "      <th>2016</th>\n",
       "      <td>91.37</td>\n",
       "      <td>18745.08</td>\n",
       "      <td>51.73</td>\n",
       "      <td>250.4</td>\n",
       "      <td>65.48</td>\n",
       "      <td>99.94</td>\n",
       "      <td>20.76</td>\n",
       "      <td>644.94</td>\n",
       "      <td>1528.24</td>\n",
       "      <td>51.77</td>\n",
       "      <td>...</td>\n",
       "      <td>4.83</td>\n",
       "      <td>27.73</td>\n",
       "      <td>240.61</td>\n",
       "      <td>1.66</td>\n",
       "      <td>44.65</td>\n",
       "      <td>0.80</td>\n",
       "      <td>8.07</td>\n",
       "      <td>2.17</td>\n",
       "      <td>32.25</td>\n",
       "      <td>1.23</td>\n",
       "    </tr>\n",
       "    <tr>\n",
       "      <th>2017</th>\n",
       "      <td>96.85</td>\n",
       "      <td>19542.98</td>\n",
       "      <td>166.93</td>\n",
       "      <td>277.0</td>\n",
       "      <td>70.60</td>\n",
       "      <td>104.30</td>\n",
       "      <td>22.74</td>\n",
       "      <td>688.59</td>\n",
       "      <td>1649.88</td>\n",
       "      <td>45.38</td>\n",
       "      <td>...</td>\n",
       "      <td>4.98</td>\n",
       "      <td>30.27</td>\n",
       "      <td>255.12</td>\n",
       "      <td>1.77</td>\n",
       "      <td>48.56</td>\n",
       "      <td>0.83</td>\n",
       "      <td>9.67</td>\n",
       "      <td>2.41</td>\n",
       "      <td>35.42</td>\n",
       "      <td>1.31</td>\n",
       "    </tr>\n",
       "    <tr>\n",
       "      <th>2018</th>\n",
       "      <td>100.02</td>\n",
       "      <td>20611.86</td>\n",
       "      <td>191.36</td>\n",
       "      <td>298.3</td>\n",
       "      <td>79.28</td>\n",
       "      <td>107.56</td>\n",
       "      <td>23.41</td>\n",
       "      <td>786.52</td>\n",
       "      <td>1716.26</td>\n",
       "      <td>26.08</td>\n",
       "      <td>...</td>\n",
       "      <td>5.09</td>\n",
       "      <td>34.31</td>\n",
       "      <td>275.89</td>\n",
       "      <td>1.97</td>\n",
       "      <td>54.03</td>\n",
       "      <td>0.82</td>\n",
       "      <td>11.46</td>\n",
       "      <td>2.58</td>\n",
       "      <td>37.65</td>\n",
       "      <td>1.40</td>\n",
       "    </tr>\n",
       "    <tr>\n",
       "      <th>2019</th>\n",
       "      <td>NaN</td>\n",
       "      <td>21423.20</td>\n",
       "      <td>183.41</td>\n",
       "      <td>232.3</td>\n",
       "      <td>76.98</td>\n",
       "      <td>107.44</td>\n",
       "      <td>24.97</td>\n",
       "      <td>792.97</td>\n",
       "      <td>1736.43</td>\n",
       "      <td>18.90</td>\n",
       "      <td>...</td>\n",
       "      <td>5.21</td>\n",
       "      <td>34.12</td>\n",
       "      <td>268.76</td>\n",
       "      <td>1.98</td>\n",
       "      <td>53.74</td>\n",
       "      <td>0.85</td>\n",
       "      <td>11.96</td>\n",
       "      <td>2.46</td>\n",
       "      <td>38.57</td>\n",
       "      <td>1.43</td>\n",
       "    </tr>\n",
       "  </tbody>\n",
       "</table>\n",
       "<p>15 rows × 153 columns</p>\n",
       "</div>"
      ],
      "text/plain": [
       "country    Cuba       USA   Qatar  Chile   Oman  Ecuador  Papua New Guinea  \\\n",
       "2005      42.64  13036.64   44.53  123.0  31.08    41.51              4.87   \n",
       "2006      52.74  13814.61   60.88  154.8  37.22    46.80              8.31   \n",
       "2007      58.60  14451.86   79.71  173.6  42.09    51.01              9.55   \n",
       "2008      60.81  14712.85  115.27  179.6  60.91    61.76             11.67   \n",
       "2009      62.08  14448.93   97.80  172.4  48.39    62.52             11.62   \n",
       "2010      64.38  14992.05  125.12  218.5  57.05    69.56             14.25   \n",
       "2011      68.99  15542.58  167.73  252.3  68.02    79.28             17.98   \n",
       "2012      73.14  16197.01  186.83  267.1  76.62    87.92             21.30   \n",
       "2013      77.15  16784.85  198.73  278.4  78.78    95.13             21.26   \n",
       "2014      80.65  17527.26  206.22  260.5  81.08   101.73             23.21   \n",
       "2015      87.13  18238.30   61.74  243.9  68.40    99.29             21.72   \n",
       "2016      91.37  18745.08   51.73  250.4  65.48    99.94             20.76   \n",
       "2017      96.85  19542.98  166.93  277.0  70.60   104.30             22.74   \n",
       "2018     100.02  20611.86  191.36  298.3  79.28   107.56             23.41   \n",
       "2019        NaN  21423.20  183.41  232.3  76.98   107.44             24.97   \n",
       "\n",
       "country  Saudi Arabia   Canada  Sudan  ...  Barbados  Latvia  Finland  \\\n",
       "2005           328.46  1169.36  26.52  ...      3.90   16.91   204.81   \n",
       "2006           376.90  1315.42  35.82  ...      4.22   21.44   216.91   \n",
       "2007           415.96  1464.98  45.90  ...      4.67   30.90   256.05   \n",
       "2008           519.80  1549.13  54.53  ...      4.78   35.66   284.55   \n",
       "2009           429.10  1371.15  49.96  ...      4.47   26.25   252.50   \n",
       "2010           528.21  1613.46  61.74  ...      4.53   23.80   249.18   \n",
       "2011           671.24  1788.65  57.89  ...      4.66   28.49   275.24   \n",
       "2012           735.97  1828.69  52.77  ...      4.61   28.18   258.30   \n",
       "2013           746.65  1847.21  57.73  ...      4.68   30.27   271.29   \n",
       "2014           756.35  1803.53  64.94  ...      4.70   31.38   274.50   \n",
       "2015           654.27  1556.13  74.29  ...      4.72   27.09   234.44   \n",
       "2016           644.94  1528.24  51.77  ...      4.83   27.73   240.61   \n",
       "2017           688.59  1649.88  45.38  ...      4.98   30.27   255.12   \n",
       "2018           786.52  1716.26  26.08  ...      5.09   34.31   275.89   \n",
       "2019           792.97  1736.43  18.90  ...      5.21   34.12   268.76   \n",
       "\n",
       "country  Cape Verde  Slovenia  Samoa  Moldova  Lesotho  Bahrain  \\\n",
       "2005           0.97     36.21   0.47     2.99     1.68    15.97   \n",
       "2006           1.11     39.48   0.51     3.41     1.80    18.50   \n",
       "2007           1.51     48.01   0.57     4.40     1.72    21.73   \n",
       "2008           1.79     55.55   0.62     6.05     1.76    25.71   \n",
       "2009           1.71     50.37   0.58     5.44     1.77    22.94   \n",
       "2010           1.66     48.16   0.66     6.97     2.27    25.71   \n",
       "2011           1.86     51.51   0.74     8.41     2.62    28.78   \n",
       "2012           1.75     46.58   0.76     8.71     2.53    30.75   \n",
       "2013           1.85     48.40   0.77     9.50     2.42    32.54   \n",
       "2014           1.86     49.93   0.76     9.51     2.50    33.39   \n",
       "2015           1.60     43.09   0.79     7.75     2.37    21.13   \n",
       "2016           1.66     44.65   0.80     8.07     2.17    32.25   \n",
       "2017           1.77     48.56   0.83     9.67     2.41    35.42   \n",
       "2018           1.97     54.03   0.82    11.46     2.58    37.65   \n",
       "2019           1.98     53.74   0.85    11.96     2.46    38.57   \n",
       "\n",
       "country  Solomon Islands  \n",
       "2005                0.41  \n",
       "2006                0.46  \n",
       "2007                0.52  \n",
       "2008                0.61  \n",
       "2009                0.60  \n",
       "2010                0.68  \n",
       "2011                0.93  \n",
       "2012                1.06  \n",
       "2013                1.13  \n",
       "2014                1.17  \n",
       "2015                1.15  \n",
       "2016                1.23  \n",
       "2017                1.31  \n",
       "2018                1.40  \n",
       "2019                1.43  \n",
       "\n",
       "[15 rows x 153 columns]"
      ]
     },
     "execution_count": 18,
     "metadata": {},
     "output_type": "execute_result"
    }
   ],
   "source": [
    "df5.drop(df5.index[15])"
   ]
  },
  {
   "cell_type": "markdown",
   "metadata": {},
   "source": [
    "Now that data is cleaned we can calculate means split it into bins."
   ]
  },
  {
   "cell_type": "code",
   "execution_count": 19,
   "metadata": {},
   "outputs": [],
   "source": [
    "means = []\n",
    "for x in df5.columns:\n",
    "    means.append(df5[x].mean())"
   ]
  },
  {
   "cell_type": "code",
   "execution_count": 20,
   "metadata": {},
   "outputs": [],
   "source": [
    "df4['meangdp'] = means"
   ]
  },
  {
   "cell_type": "code",
   "execution_count": 21,
   "metadata": {},
   "outputs": [],
   "source": [
    "df4 = df4.drop(columns='Unnamed: 16', axis=1)"
   ]
  },
  {
   "cell_type": "code",
   "execution_count": 22,
   "metadata": {},
   "outputs": [
    {
     "data": {
      "text/plain": [
       "(array([152.,   0.,   1.]),\n",
       " array([2.69333333e-01, 5.55729200e+03, 1.11143147e+04, 1.66713373e+04]),\n",
       " <a list of 3 Patch objects>)"
      ]
     },
     "execution_count": 22,
     "metadata": {},
     "output_type": "execute_result"
    },
    {
     "data": {
      "image/png": "[encoded data removed]",
      "text/plain": [
       "<Figure size 432x288 with 1 Axes>"
      ]
     },
     "metadata": {
      "needs_background": "light"
     },
     "output_type": "display_data"
    }
   ],
   "source": [
    "plt.hist(df4.meangdp, bins=3)"
   ]
  },
  {
   "cell_type": "markdown",
   "metadata": {},
   "source": [
    "### The US being an obvious strong outlier makes this extremely difficult.\n",
    "This will be moved to excel temporarily to look more exact into the data. There will have to be a different method of splitting the data."
   ]
  },
  {
   "cell_type": "code",
   "execution_count": 23,
   "metadata": {},
   "outputs": [],
   "source": [
    "df4.to_excel(\"datavgdpwithmean.xlsx\", engine=\"openpyxl\")"
   ]
  },
  {
   "cell_type": "markdown",
   "metadata": {},
   "source": [
    "Created pivot table of country vs meangdp for easy viewing, reordered means from smalles to largest.\n",
    "Range falles between 0.27 and 16671. \n",
    "0 - 10 = 28 countries\n",
    "10.01 - 20 = 27 countries\n",
    "20.01 - 40 = 25 countries\n",
    "40.01 - 100 = 25 countries\n",
    "100 - 300 = 25 countries\n",
    "300 - 1000 = 19 countries\n",
    "1000 - 3000 = 10 countries\n",
    "300 + = 2 countries\n",
    "\n",
    "1000 plus are standard \"Large Economy\" nations. The list includes Mexico, Australia, South Korea, Spain, Russia, Canada, India, Brazil, Italy, France, Britain, Germany, Japan, and the USA (from smallest to lowest).\n",
    "\n",
    "If split in that order it gives us 8 seperate groups.\n",
    "\n",
    "The groups could be further split into groups with a mean under 100, those with a mean under 1000, and those with a mean under 20000, showing large breaches in the type of nation.\n",
    "\n",
    "It should be noted that some groups in the 100 - 1000 group are still major economies such as Turkey, Sweden, and Taiwan."
   ]
  },
  {
   "cell_type": "markdown",
   "metadata": {},
   "source": [
    "## Listing the country groups"
   ]
  },
  {
   "cell_type": "code",
   "execution_count": 24,
   "metadata": {},
   "outputs": [],
   "source": [
    "group1 = df4[df4['meangdp'] <= 100].index\n",
    "group2 = df4[(df4['meangdp'] <= 1000) & (df4['meangdp'] > 100)].index\n",
    "group3 = df4[df4['meangdp'] > 1000].index\n",
    "\n",
    "#creating the minor groups\n",
    "mgroup1 = df4[df4['meangdp'] <= 10].index\n",
    "mgroup2 = df4[(df4['meangdp'] <= 20) & (df4['meangdp'] > 10)].index\n",
    "mgroup3 = df4[(df4['meangdp'] <= 40) & (df4['meangdp'] > 20)].index\n",
    "mgroup4 = df4[(df4['meangdp'] <= 100) & (df4['meangdp'] > 40)].index\n",
    "mgroup5 = df4[(df4['meangdp'] <= 300) & (df4['meangdp'] > 100)].index\n",
    "mgroup6 = df4[(df4['meangdp'] <= 1000) & (df4['meangdp'] > 300)].index\n",
    "mgroup7 = df4[(df4['meangdp'] <= 3000) & (df4['meangdp'] > 1000)].index\n",
    "mgroup8 = df4[df4['meangdp'] > 3000].index\n"
   ]
  },
  {
   "cell_type": "code",
   "execution_count": 25,
   "metadata": {},
   "outputs": [
    {
     "name": "stdout",
     "output_type": "stream",
     "text": [
      "Group 1 is: Cuba, Oman, Ecuador, Papua New Guinea, Sudan, Mauritania, Myanmar, Mongolia, Laos, Syria, Angola, Cambodia, Sri Lanka, Yemen, Congo, Botswana, Ethiopia, Zambia, Democratic Republic of the Congo, Chad, Equatorial Guinea, Ghana, Turkmenistan, Uzbekistan, Azerbaijan, Tanzania, Jordan, Afghanistan, Zimbabwe, Niger, Belarus, Georgia, Trinidad-Tobago, Libya, Morocco, Cyprus, Mozambique, Gabon, Liberia, Mali, Costa Rica, Madagascar, Togo, Guyana, Fiji, Mauritius, Tunisia, Bahamas, Senegal, Bulgaria, Cameroon, Brunei, Sierra Leone, Serbia, Kenya, Jamaica, Bosnia, Guatemala, Nepal, North Korea, Kyrgyzstan, Guinea, South Sudan, Uganda, Benin, Djibouti, Bolivia, Nicaragua, Rwanda, Malawi, Ivory Coast, Honduras, Sao Tome, Macedonia, Namibia, Luxembourg, Eritrea, Malta, Montenegro, Guinea-Bissau, Antigua and Barbuda, Croatia, Maldives, Timor-Leste, Panama, Barbados, Latvia, Cape Verde, Slovenia, Samoa, Moldova, Lesotho, Bahrain, Solomon Islands\n",
      "\n",
      "Group 2 is: Qatar, Chile, Saudi Arabia, Algeria, Indonesia, Turkey, Kazakhstan, Venezuela, Iran, Pakistan, Nigeria, UAE, Tajikistan, Vietnam, Colombia, Egypt, South Africa, Netherlands, Singapore, Peru, Kuwait, Hungary, Belgium, Iraq, Philippines, Malaysia, Norway, Ukraine, Greece, Czech Republic, Switzerland, Thailand, Austria, Bangladesh, Argentina, Sweden, Israel, Portugal, Poland, New Zealand, Romania, Taiwan, Denmark, Ireland, Finland\n",
      "\n",
      "Group 3 is: USA, Canada, Brazil, Britain, Australia, France, Russian Federation, India, Japan, Germany, Mexico, Italy, Spain, South Korea\n",
      "\n",
      "\n",
      "Minor Group 4 is: Mauritania, Mongolia, Niger, Liberia, Togo, Guyana, Fiji, Sierra Leone, Kyrgyzstan, Guinea, Djibouti, Rwanda, Malawi, Sao Tome, Macedonia, Eritrea, Montenegro, Guinea-Bissau, Antigua and Barbuda, Maldives, Timor-Leste, Barbados, Cape Verde, Samoa, Moldova, Lesotho, Solomon Islands\n",
      "\n",
      "Minor Group 5 is: Papua New Guinea, Laos, Cambodia, Botswana, Chad, Equatorial Guinea, Afghanistan, Zimbabwe, Georgia, Mozambique, Gabon, Mali, Madagascar, Mauritius, Bahamas, Senegal, Brunei, Jamaica, Bosnia, Nepal, North Korea, South Sudan, Benin, Nicaragua, Honduras, Namibia, Malta\n",
      "\n",
      "Minor Group 6 is: Yemen, Congo, Zambia, Democratic Republic of the Congo, Turkmenistan, Tanzania, Jordan, Trinidad-Tobago, Cyprus, Cameroon, Uganda, Bolivia, Ivory Coast, Latvia, Bahrain\n",
      "\n",
      "Minor Group 7 is: Cuba, Oman, Ecuador, Sudan, Myanmar, Syria, Angola, Sri Lanka, Ethiopia, Ghana, Uzbekistan, Azerbaijan, Belarus, Libya, Morocco, Costa Rica, Tunisia, Bulgaria, Serbia, Kenya, Guatemala, Luxembourg, Croatia, Panama, Slovenia\n",
      "\n",
      "Minor Group 8 is: Qatar, Chile, Algeria, Kazakhstan, Pakistan, Vietnam, Colombia, Egypt, Singapore, Peru, Kuwait, Hungary, Iraq, Philippines, Malaysia, Ukraine, Greece, Czech Republic, Bangladesh, Israel, Portugal, New Zealand, Romania, Ireland, Finland\n",
      "\n",
      "Minor Group 9 is: Saudi Arabia, Indonesia, Turkey, Venezuela, Iran, Nigeria, UAE, Tajikistan, South Africa, Netherlands, Belgium, Norway, Switzerland, Thailand, Austria, Argentina, Sweden, Poland, Taiwan, Denmark\n",
      "\n",
      "Minor Group 10 is: Canada, Brazil, Britain, Australia, France, Russian Federation, India, Mexico, Italy, Spain, South Korea\n",
      "\n",
      "Minor Group 11 is: USA, Japan, Germany\n",
      "\n"
     ]
    }
   ],
   "source": [
    "groups = [group1, group2, group3, mgroup1, mgroup2, mgroup3, mgroup4, mgroup5, mgroup6, mgroup7, mgroup8]\n",
    "\n",
    "for x in range(0,3):\n",
    "    grouptxt = \"Group \" + str(x + 1) + \" is: \"\n",
    "    for y in groups[x]:\n",
    "        grouptxt = grouptxt + (str(y)) + \", \"\n",
    "    print(grouptxt[:-2])\n",
    "    print(\"\")\n",
    "\n",
    "print(\"\")\n",
    "\n",
    "for x in range(3,11):\n",
    "    grouptxt = \"Minor Group \" + str(x + 1) + \" is: \"\n",
    "    for y in groups[x]:\n",
    "        grouptxt = grouptxt + (str(y)) + \", \"\n",
    "    print(grouptxt[:-2])\n",
    "    print(\"\")"
   ]
  },
  {
   "cell_type": "markdown",
   "metadata": {},
   "source": [
    "### Next steps\n",
    "Next we just need to calculate the invested vs gdp and then compare the differences based on the groups. For this an average for each group may work.\n",
    "We could also simply graph one vs the other."
   ]
  },
  {
   "cell_type": "markdown",
   "metadata": {},
   "source": [
    "# Averages "
   ]
  },
  {
   "cell_type": "code",
   "execution_count": 26,
   "metadata": {},
   "outputs": [],
   "source": [
    "#Must create a dataframe with the gdp means and investment totals\n",
    "df3['meangdp'] = means"
   ]
  },
  {
   "cell_type": "code",
   "execution_count": 27,
   "metadata": {},
   "outputs": [
    {
     "data": {
      "text/html": [
       "<div>\n",
       "<style scoped>\n",
       "    .dataframe tbody tr th:only-of-type {\n",
       "        vertical-align: middle;\n",
       "    }\n",
       "\n",
       "    .dataframe tbody tr th {\n",
       "        vertical-align: top;\n",
       "    }\n",
       "\n",
       "    .dataframe thead th {\n",
       "        text-align: right;\n",
       "    }\n",
       "</style>\n",
       "<table border=\"1\" class=\"dataframe\">\n",
       "  <thead>\n",
       "    <tr style=\"text-align: right;\">\n",
       "      <th></th>\n",
       "      <th>Country</th>\n",
       "      <th>Total</th>\n",
       "      <th>meangdp</th>\n",
       "    </tr>\n",
       "  </thead>\n",
       "  <tbody>\n",
       "    <tr>\n",
       "      <th>0</th>\n",
       "      <td>Cuba</td>\n",
       "      <td>740</td>\n",
       "      <td>72.610714</td>\n",
       "    </tr>\n",
       "    <tr>\n",
       "      <th>1</th>\n",
       "      <td>USA</td>\n",
       "      <td>189280</td>\n",
       "      <td>16671.337333</td>\n",
       "    </tr>\n",
       "    <tr>\n",
       "      <th>2</th>\n",
       "      <td>Qatar</td>\n",
       "      <td>7800</td>\n",
       "      <td>129.199333</td>\n",
       "    </tr>\n",
       "    <tr>\n",
       "      <th>3</th>\n",
       "      <td>Chile</td>\n",
       "      <td>14800</td>\n",
       "      <td>225.473333</td>\n",
       "    </tr>\n",
       "    <tr>\n",
       "      <th>4</th>\n",
       "      <td>Oman</td>\n",
       "      <td>6620</td>\n",
       "      <td>62.798667</td>\n",
       "    </tr>\n",
       "  </tbody>\n",
       "</table>\n",
       "</div>"
      ],
      "text/plain": [
       "  Country   Total       meangdp\n",
       "0    Cuba     740     72.610714\n",
       "1     USA  189280  16671.337333\n",
       "2   Qatar    7800    129.199333\n",
       "3   Chile   14800    225.473333\n",
       "4    Oman    6620     62.798667"
      ]
     },
     "execution_count": 27,
     "metadata": {},
     "output_type": "execute_result"
    }
   ],
   "source": [
    "df3.head()"
   ]
  },
  {
   "cell_type": "code",
   "execution_count": 29,
   "metadata": {},
   "outputs": [],
   "source": [
    "totals = df3['Total']"
   ]
  },
  {
   "cell_type": "code",
   "execution_count": 43,
   "metadata": {},
   "outputs": [],
   "source": [
    "df6 = pd.DataFrame({'Country' : country, 'TotalInvestment' : totals, 'MeanGDP' : means})"
   ]
  },
  {
   "cell_type": "code",
   "execution_count": 44,
   "metadata": {},
   "outputs": [
    {
     "name": "stdout",
     "output_type": "stream",
     "text": [
      "  Country  TotalInvestment       MeanGDP\n",
      "0    Cuba              740     72.610714\n",
      "1     USA           189280  16671.337333\n",
      "2   Qatar             7800    129.199333\n",
      "3   Chile            14800    225.473333\n",
      "4    Oman             6620     62.798667\n"
     ]
    }
   ],
   "source": [
    "print(df6.head())"
   ]
  },
  {
   "cell_type": "code",
   "execution_count": 45,
   "metadata": {},
   "outputs": [],
   "source": [
    "df6 = df6.set_index(df6.Country)"
   ]
  },
  {
   "cell_type": "code",
   "execution_count": 46,
   "metadata": {},
   "outputs": [],
   "source": [
    "df6 = df6.drop(['Country'], axis=1)"
   ]
  },
  {
   "cell_type": "code",
   "execution_count": 47,
   "metadata": {},
   "outputs": [
    {
     "name": "stdout",
     "output_type": "stream",
     "text": [
      "         TotalInvestment       MeanGDP\n",
      "Country                               \n",
      "Cuba                 740     72.610714\n",
      "USA               189280  16671.337333\n",
      "Qatar               7800    129.199333\n",
      "Chile              14800    225.473333\n",
      "Oman                6620     62.798667\n"
     ]
    }
   ],
   "source": [
    "print(df6.head())"
   ]
  },
  {
   "cell_type": "code",
   "execution_count": 49,
   "metadata": {},
   "outputs": [
    {
     "data": {
      "text/plain": [
       "<matplotlib.collections.PathCollection at 0x13aba4d9430>"
      ]
     },
     "execution_count": 49,
     "metadata": {},
     "output_type": "execute_result"
    },
    {
     "data": {
      "image/png": "[encoded data removed]",
      "text/plain": [
       "<Figure size 432x288 with 1 Axes>"
      ]
     },
     "metadata": {
      "needs_background": "light"
     },
     "output_type": "display_data"
    }
   ],
   "source": [
    "plt.scatter(df6['MeanGDP'],df6['TotalInvestment'])"
   ]
  },
  {
   "cell_type": "markdown",
   "metadata": {},
   "source": [
    "### Relationship does not seem to be linear. It may be useful to eleminate the US for better viewing."
   ]
  },
  {
   "cell_type": "code",
   "execution_count": 53,
   "metadata": {},
   "outputs": [
    {
     "data": {
      "text/plain": [
       "<matplotlib.collections.PathCollection at 0x13abb6fb610>"
      ]
     },
     "execution_count": 53,
     "metadata": {},
     "output_type": "execute_result"
    },
    {
     "data": {
      "image/png": "[encoded data removed]",
      "text/plain": [
       "<Figure size 432x288 with 1 Axes>"
      ]
     },
     "metadata": {
      "needs_background": "light"
     },
     "output_type": "display_data"
    }
   ],
   "source": [
    "df7 = df6.drop('USA', axis=0)\n",
    "plt.scatter(df7['MeanGDP'],df7['TotalInvestment'])"
   ]
  },
  {
   "cell_type": "markdown",
   "metadata": {},
   "source": [
    "While there does appear to be a relationship of sorts, the noise may be too blatant for actual comparison. I will try using groups, but this does present the fear of forcing a relevance where one does not exist."
   ]
  },
  {
   "cell_type": "code",
   "execution_count": 58,
   "metadata": {},
   "outputs": [],
   "source": [
    "x = df6[['MeanGDP']]\n",
    "y = df6['TotalInvestment']\n",
    "reg = lr().fit(x,y)"
   ]
  },
  {
   "cell_type": "code",
   "execution_count": 61,
   "metadata": {},
   "outputs": [
    {
     "name": "stdout",
     "output_type": "stream",
     "text": [
      "[11.4051084]\n",
      "9082.76569001899\n"
     ]
    }
   ],
   "source": [
    "print(reg.coef_)\n",
    "print(reg.intercept_)"
   ]
  },
  {
   "cell_type": "markdown",
   "metadata": {},
   "source": [
    "Lets try again with test and predictions."
   ]
  },
  {
   "cell_type": "code",
   "execution_count": 68,
   "metadata": {},
   "outputs": [],
   "source": [
    "x_train, x_test, y_train, y_test = ms.train_test_split(x, y, test_size=0.33, random_state = 10)"
   ]
  },
  {
   "cell_type": "code",
   "execution_count": 73,
   "metadata": {},
   "outputs": [
    {
     "name": "stdout",
     "output_type": "stream",
     "text": [
      "prediction:\n",
      "[ 39889.25904697   7272.87340481   9799.50537041  10371.83457009\n",
      "   8904.21990931   7603.83563591   6908.84703026  51876.2948123\n",
      "  14671.88645776   6541.46623809   7229.39382953   7240.13354498\n",
      "  12747.89897955  87635.41409636 413456.29933236   9708.88495323\n",
      "  36027.12719291   6638.20503862 130778.2667473   12574.1922183\n",
      "   8901.43734667  14222.01442264   7860.38465679   6896.60910126\n",
      "   6968.48383329   6791.9782371    6922.530869    18392.35170166\n",
      "   6720.88457529  10566.20714744   9688.44694928   6819.54350676\n",
      "   6594.28611135   6800.0167514    6872.8352766    7166.45258808\n",
      "   7102.7790933   15493.49096195  13514.40548903   7715.15441378\n",
      "   7703.682445     6800.89545539  71037.72085473  21477.38378145\n",
      "  10545.89932186  12169.98838229   6600.30686092  51076.34873427\n",
      "   7771.78200433   6559.28440236  18382.13269968]\n",
      "score:\n",
      "-0.5084155979264584\n"
     ]
    }
   ],
   "source": [
    "model = lr().fit(x_train,y_train)\n",
    "\n",
    "print(\"prediction:\")\n",
    "print(model.predict(x_test))\n",
    "print(\"score:\")\n",
    "print(model.score(x_test,y_test))"
   ]
  },
  {
   "cell_type": "code",
   "execution_count": 70,
   "metadata": {},
   "outputs": [
    {
     "ename": "NotFittedError",
     "evalue": "This LinearRegression instance is not fitted yet. Call 'fit' with appropriate arguments before using this estimator.",
     "output_type": "error",
     "traceback": [
      "\u001b[1;31m---------------------------------------------------------------------------\u001b[0m",
      "\u001b[1;31mNotFittedError\u001b[0m                            Traceback (most recent call last)",
      "\u001b[1;32m<ipython-input-70-98f963cb868d>\u001b[0m in \u001b[0;36m<module>\u001b[1;34m\u001b[0m\n\u001b[1;32m----> 1\u001b[1;33m \u001b[0mtest\u001b[0m \u001b[1;33m=\u001b[0m \u001b[0mlr\u001b[0m\u001b[1;33m(\u001b[0m\u001b[1;33m)\u001b[0m\u001b[1;33m.\u001b[0m\u001b[0mpredict\u001b[0m\u001b[1;33m(\u001b[0m\u001b[0mx_test\u001b[0m\u001b[1;33m)\u001b[0m\u001b[1;33m\u001b[0m\u001b[1;33m\u001b[0m\u001b[0m\n\u001b[0m",
      "\u001b[1;32m~\\Anaconda3\\lib\\site-packages\\sklearn\\linear_model\\_base.py\u001b[0m in \u001b[0;36mpredict\u001b[1;34m(self, X)\u001b[0m\n\u001b[0;32m    234\u001b[0m             \u001b[0mReturns\u001b[0m \u001b[0mpredicted\u001b[0m \u001b[0mvalues\u001b[0m\u001b[1;33m.\u001b[0m\u001b[1;33m\u001b[0m\u001b[1;33m\u001b[0m\u001b[0m\n\u001b[0;32m    235\u001b[0m         \"\"\"\n\u001b[1;32m--> 236\u001b[1;33m         \u001b[1;32mreturn\u001b[0m \u001b[0mself\u001b[0m\u001b[1;33m.\u001b[0m\u001b[0m_decision_function\u001b[0m\u001b[1;33m(\u001b[0m\u001b[0mX\u001b[0m\u001b[1;33m)\u001b[0m\u001b[1;33m\u001b[0m\u001b[1;33m\u001b[0m\u001b[0m\n\u001b[0m\u001b[0;32m    237\u001b[0m \u001b[1;33m\u001b[0m\u001b[0m\n\u001b[0;32m    238\u001b[0m     \u001b[0m_preprocess_data\u001b[0m \u001b[1;33m=\u001b[0m \u001b[0mstaticmethod\u001b[0m\u001b[1;33m(\u001b[0m\u001b[0m_preprocess_data\u001b[0m\u001b[1;33m)\u001b[0m\u001b[1;33m\u001b[0m\u001b[1;33m\u001b[0m\u001b[0m\n",
      "\u001b[1;32m~\\Anaconda3\\lib\\site-packages\\sklearn\\linear_model\\_base.py\u001b[0m in \u001b[0;36m_decision_function\u001b[1;34m(self, X)\u001b[0m\n\u001b[0;32m    214\u001b[0m \u001b[1;33m\u001b[0m\u001b[0m\n\u001b[0;32m    215\u001b[0m     \u001b[1;32mdef\u001b[0m \u001b[0m_decision_function\u001b[0m\u001b[1;33m(\u001b[0m\u001b[0mself\u001b[0m\u001b[1;33m,\u001b[0m \u001b[0mX\u001b[0m\u001b[1;33m)\u001b[0m\u001b[1;33m:\u001b[0m\u001b[1;33m\u001b[0m\u001b[1;33m\u001b[0m\u001b[0m\n\u001b[1;32m--> 216\u001b[1;33m         \u001b[0mcheck_is_fitted\u001b[0m\u001b[1;33m(\u001b[0m\u001b[0mself\u001b[0m\u001b[1;33m)\u001b[0m\u001b[1;33m\u001b[0m\u001b[1;33m\u001b[0m\u001b[0m\n\u001b[0m\u001b[0;32m    217\u001b[0m \u001b[1;33m\u001b[0m\u001b[0m\n\u001b[0;32m    218\u001b[0m         \u001b[0mX\u001b[0m \u001b[1;33m=\u001b[0m \u001b[0mcheck_array\u001b[0m\u001b[1;33m(\u001b[0m\u001b[0mX\u001b[0m\u001b[1;33m,\u001b[0m \u001b[0maccept_sparse\u001b[0m\u001b[1;33m=\u001b[0m\u001b[1;33m[\u001b[0m\u001b[1;34m'csr'\u001b[0m\u001b[1;33m,\u001b[0m \u001b[1;34m'csc'\u001b[0m\u001b[1;33m,\u001b[0m \u001b[1;34m'coo'\u001b[0m\u001b[1;33m]\u001b[0m\u001b[1;33m)\u001b[0m\u001b[1;33m\u001b[0m\u001b[1;33m\u001b[0m\u001b[0m\n",
      "\u001b[1;32m~\\Anaconda3\\lib\\site-packages\\sklearn\\utils\\validation.py\u001b[0m in \u001b[0;36minner_f\u001b[1;34m(*args, **kwargs)\u001b[0m\n\u001b[0;32m     71\u001b[0m                           FutureWarning)\n\u001b[0;32m     72\u001b[0m         \u001b[0mkwargs\u001b[0m\u001b[1;33m.\u001b[0m\u001b[0mupdate\u001b[0m\u001b[1;33m(\u001b[0m\u001b[1;33m{\u001b[0m\u001b[0mk\u001b[0m\u001b[1;33m:\u001b[0m \u001b[0marg\u001b[0m \u001b[1;32mfor\u001b[0m \u001b[0mk\u001b[0m\u001b[1;33m,\u001b[0m \u001b[0marg\u001b[0m \u001b[1;32min\u001b[0m \u001b[0mzip\u001b[0m\u001b[1;33m(\u001b[0m\u001b[0msig\u001b[0m\u001b[1;33m.\u001b[0m\u001b[0mparameters\u001b[0m\u001b[1;33m,\u001b[0m \u001b[0margs\u001b[0m\u001b[1;33m)\u001b[0m\u001b[1;33m}\u001b[0m\u001b[1;33m)\u001b[0m\u001b[1;33m\u001b[0m\u001b[1;33m\u001b[0m\u001b[0m\n\u001b[1;32m---> 73\u001b[1;33m         \u001b[1;32mreturn\u001b[0m \u001b[0mf\u001b[0m\u001b[1;33m(\u001b[0m\u001b[1;33m**\u001b[0m\u001b[0mkwargs\u001b[0m\u001b[1;33m)\u001b[0m\u001b[1;33m\u001b[0m\u001b[1;33m\u001b[0m\u001b[0m\n\u001b[0m\u001b[0;32m     74\u001b[0m     \u001b[1;32mreturn\u001b[0m \u001b[0minner_f\u001b[0m\u001b[1;33m\u001b[0m\u001b[1;33m\u001b[0m\u001b[0m\n\u001b[0;32m     75\u001b[0m \u001b[1;33m\u001b[0m\u001b[0m\n",
      "\u001b[1;32m~\\Anaconda3\\lib\\site-packages\\sklearn\\utils\\validation.py\u001b[0m in \u001b[0;36mcheck_is_fitted\u001b[1;34m(estimator, attributes, msg, all_or_any)\u001b[0m\n\u001b[0;32m   1018\u001b[0m \u001b[1;33m\u001b[0m\u001b[0m\n\u001b[0;32m   1019\u001b[0m     \u001b[1;32mif\u001b[0m \u001b[1;32mnot\u001b[0m \u001b[0mattrs\u001b[0m\u001b[1;33m:\u001b[0m\u001b[1;33m\u001b[0m\u001b[1;33m\u001b[0m\u001b[0m\n\u001b[1;32m-> 1020\u001b[1;33m         \u001b[1;32mraise\u001b[0m \u001b[0mNotFittedError\u001b[0m\u001b[1;33m(\u001b[0m\u001b[0mmsg\u001b[0m \u001b[1;33m%\u001b[0m \u001b[1;33m{\u001b[0m\u001b[1;34m'name'\u001b[0m\u001b[1;33m:\u001b[0m \u001b[0mtype\u001b[0m\u001b[1;33m(\u001b[0m\u001b[0mestimator\u001b[0m\u001b[1;33m)\u001b[0m\u001b[1;33m.\u001b[0m\u001b[0m__name__\u001b[0m\u001b[1;33m}\u001b[0m\u001b[1;33m)\u001b[0m\u001b[1;33m\u001b[0m\u001b[1;33m\u001b[0m\u001b[0m\n\u001b[0m\u001b[0;32m   1021\u001b[0m \u001b[1;33m\u001b[0m\u001b[0m\n\u001b[0;32m   1022\u001b[0m \u001b[1;33m\u001b[0m\u001b[0m\n",
      "\u001b[1;31mNotFittedError\u001b[0m: This LinearRegression instance is not fitted yet. Call 'fit' with appropriate arguments before using this estimator."
     ]
    }
   ],
   "source": []
  },
  {
   "cell_type": "code",
   "execution_count": null,
   "metadata": {},
   "outputs": [],
   "source": []
  }
 ],
 "metadata": {
  "kernelspec": {
   "display_name": "Python 3",
   "language": "python",
   "name": "python3"
  },
  "language_info": {
   "codemirror_mode": {
    "name": "ipython",
    "version": 3
   },
   "file_extension": ".py",
   "mimetype": "text/x-python",
   "name": "python",
   "nbconvert_exporter": "python",
   "pygments_lexer": "ipython3",
   "version": "3.8.3"
  }
 },
 "nbformat": 4,
 "nbformat_minor": 4
}
